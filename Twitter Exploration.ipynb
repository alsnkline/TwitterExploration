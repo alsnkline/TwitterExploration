{
 "cells": [
  {
   "cell_type": "markdown",
   "metadata": {},
   "source": [
    "# Twitter Exploration"
   ]
  },
  {
   "cell_type": "markdown",
   "metadata": {},
   "source": [
    "As a potential Data Analysis project I explored the publically available Tweeter API and what data can be easily accessed with it. I used the Tweepy library to wrap the Twitter API. I initially created a number of methods in Twitter_Access.py to exercise the search, home_timeline and user_timeline API methods and save the resulting data into .csv files for analysis with pandas."
   ]
  },
  {
   "cell_type": "code",
   "execution_count": 13,
   "metadata": {},
   "outputs": [
    {
     "name": "stdout",
     "output_type": "stream",
     "text": [
      "/Users/alisonkline/Code/TwitterExploration\n"
     ]
    }
   ],
   "source": [
    "import pandas as pd\n",
    "import os\n",
    "from datetime import datetime \n",
    "from Twitter_Access import get_twitter_api_obj\n",
    "from Twitter_Access import get_users_timeline\n",
    "import matplotlib\n",
    "import matplotlib.pyplot as plt\n",
    "%matplotlib inline\n",
    "from IPython.display import Markdown, display, HTML\n",
    "\n",
    "cwd = os.getcwd()\n",
    "print(cwd)"
   ]
  },
  {
   "cell_type": "markdown",
   "metadata": {},
   "source": [
    "I manually collected the twitter screen_names for some of the key democrate and republican twitter accounts.\n",
    "\n",
    "Here they are:\n",
    "\n",
    "Republican\n",
    "\n",
    "| Twitter Screen Name | Description of account |\n",
    "|---------------------|------------------------|\n",
    "| @GOP | The Grand Old Party, aka The Republicans |\n",
    "| @NRCC | The Republican Congressional Committee |\n",
    "| @HouseGOP | The House Republicans |\n",
    "| @SenateGOP | The Senate Republicans |\n",
    "\n",
    "Democrate\n",
    "\n",
    "| Twitter Screen Name | Description of account |\n",
    "|---------------------|------------------------|\n",
    "| @TheDemocrats | The Democrats |\n",
    "| @DNC | The Democratic National Committee |\n",
    "| @HouseDemocrats | The House Democrats |\n",
    "| @SenateDemocrats | The Senate Democrats |"
   ]
  },
  {
   "cell_type": "markdown",
   "metadata": {},
   "source": [
    "Then ran the user time_line method created in Twitter_Access.py on each account in turn to gather their tweet data.\n",
    "\n",
    "So far only @GOP and @TheDemocrats\n",
    "\n",
    "I need to create an API object first to handle the actual Twitter API authentication. This loads in the account keys I created and are linked to my private personal account. You can exchange them for your own by passing in a dictionary containing your values for 'consumer_key', 'consumer_secret', 'access_token', 'access_token_secret'."
   ]
  },
  {
   "cell_type": "code",
   "execution_count": 2,
   "metadata": {
    "collapsed": true
   },
   "outputs": [],
   "source": [
    "api = get_twitter_api_obj()"
   ]
  },
  {
   "cell_type": "code",
   "execution_count": 3,
   "metadata": {},
   "outputs": [
    {
     "name": "stdout",
     "output_type": "stream",
     "text": [
      "Obtained 1 tweet pages for user TheDemocrats.\n",
      "Obtained 2 tweet pages for user TheDemocrats.\n",
      "Obtained 3 tweet pages for user TheDemocrats.\n",
      "Obtained 4 tweet pages for user TheDemocrats.\n",
      "Obtained 5 tweet pages for user TheDemocrats.\n",
      "Obtained 6 tweet pages for user TheDemocrats.\n",
      "Obtained 7 tweet pages for user TheDemocrats.\n",
      "Obtained 8 tweet pages for user TheDemocrats.\n",
      "Obtained 9 tweet pages for user TheDemocrats.\n",
      "Obtained 10 tweet pages for user TheDemocrats.\n",
      "Obtained 11 tweet pages for user TheDemocrats.\n",
      "Obtained 12 tweet pages for user TheDemocrats.\n",
      "Obtained 13 tweet pages for user TheDemocrats.\n",
      "Obtained 14 tweet pages for user TheDemocrats.\n",
      "Obtained 15 tweet pages for user TheDemocrats.\n",
      "Obtained 16 tweet pages for user TheDemocrats.\n"
     ]
    }
   ],
   "source": [
    "#get_users_timeline(api, \"TheDemocrats\")"
   ]
  },
  {
   "cell_type": "markdown",
   "metadata": {},
   "source": [
    "# Analysing the data"
   ]
  },
  {
   "cell_type": "markdown",
   "metadata": {},
   "source": [
    "Initially just the two users @GOP and @TheDemocrats\n",
    "The dumped .csv files are available in the Data directory so the first task is to import the data into two Pandas Dataframes."
   ]
  },
  {
   "cell_type": "code",
   "execution_count": 2,
   "metadata": {
    "collapsed": true
   },
   "outputs": [],
   "source": [
    "rep = pd.read_csv(cwd+'/data/tweetsTimelineGOP.csv')\n",
    "dem = pd.read_csv(cwd+'/data/tweetsTimelineTheDemocrats.csv')"
   ]
  },
  {
   "cell_type": "code",
   "execution_count": 3,
   "metadata": {},
   "outputs": [
    {
     "name": "stdout",
     "output_type": "stream",
     "text": [
      "There are 12 columns in both data sets :\n",
      "   id_str\n",
      "   user.screen_name\n",
      "   in_reply_to_screen_name\n",
      "   created_at\n",
      "   favorite_count\n",
      "   quote_count\n",
      "   reply_count\n",
      "   retweet_count\n",
      "   truncated\n",
      "   lang\n",
      "   text\n",
      "   from\n"
     ]
    }
   ],
   "source": [
    "def explore_columns(df1, df2):\n",
    "    print('There are {} columns in both data sets :'.format(rep.shape[1]))\n",
    "    for c in df1.columns.values:\n",
    "        if c in df2.columns.values:\n",
    "            print('   ' + c)\n",
    "        else:\n",
    "            print('Column ({}) only present in one dataset'.format(c))\n",
    "\n",
    "explore_columns(rep, dem)"
   ]
  },
  {
   "cell_type": "code",
   "execution_count": 4,
   "metadata": {},
   "outputs": [
    {
     "name": "stdout",
     "output_type": "stream",
     "text": [
      "Total number of Republican tweets 2507 vs Democrat tweets 2675\n"
     ]
    }
   ],
   "source": [
    "print('Total number of Republican tweets {} vs Democrat tweets {}'.format(rep.shape[0], dem.shape[0]))"
   ]
  },
  {
   "cell_type": "markdown",
   "metadata": {},
   "source": [
    "This includes all tweets in the data set, the 'from' field captures if a tweet was 'retweeted' or 'quoted' from another user."
   ]
  },
  {
   "cell_type": "code",
   "execution_count": 5,
   "metadata": {},
   "outputs": [
    {
     "name": "stdout",
     "output_type": "stream",
     "text": [
      "Republican tweets - 'regular' are all those they authored, inc quoted and retweeted ones\n",
      "from\n",
      "from_quoted_status        118\n",
      "from_retweeted_status      52\n",
      "regular                  2337\n",
      "dtype: int64\n",
      "Democrat tweets - 'regular' are all those they authored, inc quoted and retweeted ones\n",
      "from\n",
      "from_quoted_status        190\n",
      "from_retweeted_status      59\n",
      "regular                  2426\n",
      "dtype: int64\n"
     ]
    }
   ],
   "source": [
    "print(\"Republican tweets - 'regular' are all those they authored, inc quoted and retweeted ones\")\n",
    "print(rep.groupby('from').size())\n",
    "print(\"Democrat tweets - 'regular' are all those they authored, inc quoted and retweeted ones\")\n",
    "print(dem.groupby('from').size())"
   ]
  },
  {
   "cell_type": "markdown",
   "metadata": {},
   "source": [
    "Giving a quick look at the top 5 entries in both data sets:"
   ]
  },
  {
   "cell_type": "code",
   "execution_count": 6,
   "metadata": {},
   "outputs": [
    {
     "data": {
      "text/html": [
       "<div>\n",
       "<style>\n",
       "    .dataframe thead tr:only-child th {\n",
       "        text-align: right;\n",
       "    }\n",
       "\n",
       "    .dataframe thead th {\n",
       "        text-align: left;\n",
       "    }\n",
       "\n",
       "    .dataframe tbody tr th {\n",
       "        vertical-align: top;\n",
       "    }\n",
       "</style>\n",
       "<table border=\"1\" class=\"dataframe\">\n",
       "  <thead>\n",
       "    <tr style=\"text-align: right;\">\n",
       "      <th></th>\n",
       "      <th>id_str</th>\n",
       "      <th>user.screen_name</th>\n",
       "      <th>in_reply_to_screen_name</th>\n",
       "      <th>created_at</th>\n",
       "      <th>favorite_count</th>\n",
       "      <th>quote_count</th>\n",
       "      <th>reply_count</th>\n",
       "      <th>retweet_count</th>\n",
       "      <th>truncated</th>\n",
       "      <th>lang</th>\n",
       "      <th>text</th>\n",
       "      <th>from</th>\n",
       "    </tr>\n",
       "  </thead>\n",
       "  <tbody>\n",
       "    <tr>\n",
       "      <th>0</th>\n",
       "      <td>996453465386823680</td>\n",
       "      <td>GOP</td>\n",
       "      <td>NaN</td>\n",
       "      <td>2018-05-15 18:13:14</td>\n",
       "      <td>746</td>\n",
       "      <td>0</td>\n",
       "      <td>0</td>\n",
       "      <td>261</td>\n",
       "      <td>False</td>\n",
       "      <td>en</td>\n",
       "      <td>Today, @realDonaldTrump invited the family of ...</td>\n",
       "      <td>regular</td>\n",
       "    </tr>\n",
       "    <tr>\n",
       "      <th>1</th>\n",
       "      <td>996443844957917184</td>\n",
       "      <td>GOP</td>\n",
       "      <td>NaN</td>\n",
       "      <td>2018-05-15 17:35:00</td>\n",
       "      <td>0</td>\n",
       "      <td>0</td>\n",
       "      <td>0</td>\n",
       "      <td>21</td>\n",
       "      <td>False</td>\n",
       "      <td>en</td>\n",
       "      <td>RT @RNCData: Our next Campaign Data College is...</td>\n",
       "      <td>regular</td>\n",
       "    </tr>\n",
       "    <tr>\n",
       "      <th>2</th>\n",
       "      <td>996387031474429952</td>\n",
       "      <td>RNCData</td>\n",
       "      <td>NaN</td>\n",
       "      <td>2018-05-15 13:49:14</td>\n",
       "      <td>47</td>\n",
       "      <td>0</td>\n",
       "      <td>0</td>\n",
       "      <td>21</td>\n",
       "      <td>False</td>\n",
       "      <td>en</td>\n",
       "      <td>Our next Campaign Data College is June 18-20 i...</td>\n",
       "      <td>from_retweeted_status</td>\n",
       "    </tr>\n",
       "    <tr>\n",
       "      <th>3</th>\n",
       "      <td>996426767551356928</td>\n",
       "      <td>GOP</td>\n",
       "      <td>NaN</td>\n",
       "      <td>2018-05-15 16:27:08</td>\n",
       "      <td>0</td>\n",
       "      <td>0</td>\n",
       "      <td>0</td>\n",
       "      <td>55</td>\n",
       "      <td>False</td>\n",
       "      <td>en</td>\n",
       "      <td>RT @GOPChairwoman: So proud of our community l...</td>\n",
       "      <td>regular</td>\n",
       "    </tr>\n",
       "    <tr>\n",
       "      <th>4</th>\n",
       "      <td>996417420565929984</td>\n",
       "      <td>GOPChairwoman</td>\n",
       "      <td>NaN</td>\n",
       "      <td>2018-05-15 15:50:00</td>\n",
       "      <td>155</td>\n",
       "      <td>0</td>\n",
       "      <td>0</td>\n",
       "      <td>55</td>\n",
       "      <td>False</td>\n",
       "      <td>en</td>\n",
       "      <td>So proud of our community leaders across Ameri...</td>\n",
       "      <td>from_retweeted_status</td>\n",
       "    </tr>\n",
       "  </tbody>\n",
       "</table>\n",
       "</div>"
      ],
      "text/plain": [
       "               id_str user.screen_name in_reply_to_screen_name  \\\n",
       "0  996453465386823680              GOP                     NaN   \n",
       "1  996443844957917184              GOP                     NaN   \n",
       "2  996387031474429952          RNCData                     NaN   \n",
       "3  996426767551356928              GOP                     NaN   \n",
       "4  996417420565929984    GOPChairwoman                     NaN   \n",
       "\n",
       "            created_at  favorite_count  quote_count  reply_count  \\\n",
       "0  2018-05-15 18:13:14             746            0            0   \n",
       "1  2018-05-15 17:35:00               0            0            0   \n",
       "2  2018-05-15 13:49:14              47            0            0   \n",
       "3  2018-05-15 16:27:08               0            0            0   \n",
       "4  2018-05-15 15:50:00             155            0            0   \n",
       "\n",
       "   retweet_count  truncated lang  \\\n",
       "0            261      False   en   \n",
       "1             21      False   en   \n",
       "2             21      False   en   \n",
       "3             55      False   en   \n",
       "4             55      False   en   \n",
       "\n",
       "                                                text                   from  \n",
       "0  Today, @realDonaldTrump invited the family of ...                regular  \n",
       "1  RT @RNCData: Our next Campaign Data College is...                regular  \n",
       "2  Our next Campaign Data College is June 18-20 i...  from_retweeted_status  \n",
       "3  RT @GOPChairwoman: So proud of our community l...                regular  \n",
       "4  So proud of our community leaders across Ameri...  from_retweeted_status  "
      ]
     },
     "execution_count": 6,
     "metadata": {},
     "output_type": "execute_result"
    }
   ],
   "source": [
    "rep.head(5)"
   ]
  },
  {
   "cell_type": "code",
   "execution_count": 7,
   "metadata": {},
   "outputs": [
    {
     "data": {
      "text/html": [
       "<div>\n",
       "<style>\n",
       "    .dataframe thead tr:only-child th {\n",
       "        text-align: right;\n",
       "    }\n",
       "\n",
       "    .dataframe thead th {\n",
       "        text-align: left;\n",
       "    }\n",
       "\n",
       "    .dataframe tbody tr th {\n",
       "        vertical-align: top;\n",
       "    }\n",
       "</style>\n",
       "<table border=\"1\" class=\"dataframe\">\n",
       "  <thead>\n",
       "    <tr style=\"text-align: right;\">\n",
       "      <th></th>\n",
       "      <th>id_str</th>\n",
       "      <th>user.screen_name</th>\n",
       "      <th>in_reply_to_screen_name</th>\n",
       "      <th>created_at</th>\n",
       "      <th>favorite_count</th>\n",
       "      <th>quote_count</th>\n",
       "      <th>reply_count</th>\n",
       "      <th>retweet_count</th>\n",
       "      <th>truncated</th>\n",
       "      <th>lang</th>\n",
       "      <th>text</th>\n",
       "      <th>from</th>\n",
       "    </tr>\n",
       "  </thead>\n",
       "  <tbody>\n",
       "    <tr>\n",
       "      <th>0</th>\n",
       "      <td>996470547415486464</td>\n",
       "      <td>TheDemocrats</td>\n",
       "      <td>NaN</td>\n",
       "      <td>2018-05-15 19:21:06</td>\n",
       "      <td>0</td>\n",
       "      <td>0</td>\n",
       "      <td>0</td>\n",
       "      <td>21</td>\n",
       "      <td>False</td>\n",
       "      <td>en</td>\n",
       "      <td>RT @NebraskaDems: Polls open TODAY 8am-8pm CT....</td>\n",
       "      <td>regular</td>\n",
       "    </tr>\n",
       "    <tr>\n",
       "      <th>1</th>\n",
       "      <td>996361759551315968</td>\n",
       "      <td>NebraskaDems</td>\n",
       "      <td>NaN</td>\n",
       "      <td>2018-05-15 12:08:49</td>\n",
       "      <td>32</td>\n",
       "      <td>0</td>\n",
       "      <td>0</td>\n",
       "      <td>21</td>\n",
       "      <td>False</td>\n",
       "      <td>en</td>\n",
       "      <td>Polls open TODAY 8am-8pm CT.\\nFind your pollin...</td>\n",
       "      <td>from_retweeted_status</td>\n",
       "    </tr>\n",
       "    <tr>\n",
       "      <th>2</th>\n",
       "      <td>996456438913527808</td>\n",
       "      <td>TheDemocrats</td>\n",
       "      <td>NaN</td>\n",
       "      <td>2018-05-15 18:25:02</td>\n",
       "      <td>0</td>\n",
       "      <td>0</td>\n",
       "      <td>0</td>\n",
       "      <td>70</td>\n",
       "      <td>False</td>\n",
       "      <td>en</td>\n",
       "      <td>RT @PADems: Polls are OPEN! Make sure you vote...</td>\n",
       "      <td>regular</td>\n",
       "    </tr>\n",
       "    <tr>\n",
       "      <th>3</th>\n",
       "      <td>996344440989011975</td>\n",
       "      <td>PADems</td>\n",
       "      <td>NaN</td>\n",
       "      <td>2018-05-15 11:00:00</td>\n",
       "      <td>81</td>\n",
       "      <td>0</td>\n",
       "      <td>0</td>\n",
       "      <td>70</td>\n",
       "      <td>False</td>\n",
       "      <td>en</td>\n",
       "      <td>Polls are OPEN! Make sure you vote for @Wolffo...</td>\n",
       "      <td>from_retweeted_status</td>\n",
       "    </tr>\n",
       "    <tr>\n",
       "      <th>4</th>\n",
       "      <td>996156902139719681</td>\n",
       "      <td>TheDemocrats</td>\n",
       "      <td>NaN</td>\n",
       "      <td>2018-05-14 22:34:47</td>\n",
       "      <td>547</td>\n",
       "      <td>0</td>\n",
       "      <td>0</td>\n",
       "      <td>292</td>\n",
       "      <td>False</td>\n",
       "      <td>en</td>\n",
       "      <td>Thanks to Republicans, American jobs are movin...</td>\n",
       "      <td>regular</td>\n",
       "    </tr>\n",
       "  </tbody>\n",
       "</table>\n",
       "</div>"
      ],
      "text/plain": [
       "               id_str user.screen_name in_reply_to_screen_name  \\\n",
       "0  996470547415486464     TheDemocrats                     NaN   \n",
       "1  996361759551315968     NebraskaDems                     NaN   \n",
       "2  996456438913527808     TheDemocrats                     NaN   \n",
       "3  996344440989011975           PADems                     NaN   \n",
       "4  996156902139719681     TheDemocrats                     NaN   \n",
       "\n",
       "            created_at  favorite_count  quote_count  reply_count  \\\n",
       "0  2018-05-15 19:21:06               0            0            0   \n",
       "1  2018-05-15 12:08:49              32            0            0   \n",
       "2  2018-05-15 18:25:02               0            0            0   \n",
       "3  2018-05-15 11:00:00              81            0            0   \n",
       "4  2018-05-14 22:34:47             547            0            0   \n",
       "\n",
       "   retweet_count  truncated lang  \\\n",
       "0             21      False   en   \n",
       "1             21      False   en   \n",
       "2             70      False   en   \n",
       "3             70      False   en   \n",
       "4            292      False   en   \n",
       "\n",
       "                                                text                   from  \n",
       "0  RT @NebraskaDems: Polls open TODAY 8am-8pm CT....                regular  \n",
       "1  Polls open TODAY 8am-8pm CT.\\nFind your pollin...  from_retweeted_status  \n",
       "2  RT @PADems: Polls are OPEN! Make sure you vote...                regular  \n",
       "3  Polls are OPEN! Make sure you vote for @Wolffo...  from_retweeted_status  \n",
       "4  Thanks to Republicans, American jobs are movin...                regular  "
      ]
     },
     "execution_count": 7,
     "metadata": {},
     "output_type": "execute_result"
    }
   ],
   "source": [
    "dem.head(5)"
   ]
  },
  {
   "cell_type": "markdown",
   "metadata": {},
   "source": [
    "Neither data set should have many or any non-english tweets - but lets check:"
   ]
  },
  {
   "cell_type": "code",
   "execution_count": 6,
   "metadata": {},
   "outputs": [
    {
     "name": "stdout",
     "output_type": "stream",
     "text": [
      "Number of tweets in english : 2505 from a total of 2507 tweets so 2 foreign language tweets\n",
      "Number of tweets in english : 2674 from a total of 2675 tweets so 1 foreign language tweets\n"
     ]
    }
   ],
   "source": [
    "str = 'Number of tweets in english : {0} from a total of {1} tweets so {2} foreign language tweets'\n",
    "rep_en = rep['lang'].str.contains('en').value_counts()[True]\n",
    "dem_en = dem['lang'].str.contains('en').value_counts()[True]\n",
    "print(str.format(rep_en, rep.shape[0], rep.shape[0]-rep_en))\n",
    "print(str.format(dem_en, dem.shape[0], dem.shape[0]-dem_en))"
   ]
  },
  {
   "cell_type": "markdown",
   "metadata": {},
   "source": [
    "And looking at those tweets - they are authored by others. (und is undetected language)"
   ]
  },
  {
   "cell_type": "code",
   "execution_count": 7,
   "metadata": {},
   "outputs": [
    {
     "name": "stdout",
     "output_type": "stream",
     "text": [
      "Republican non english tweets\n"
     ]
    },
    {
     "data": {
      "text/html": [
       "<div>\n",
       "<style>\n",
       "    .dataframe thead tr:only-child th {\n",
       "        text-align: right;\n",
       "    }\n",
       "\n",
       "    .dataframe thead th {\n",
       "        text-align: left;\n",
       "    }\n",
       "\n",
       "    .dataframe tbody tr th {\n",
       "        vertical-align: top;\n",
       "    }\n",
       "</style>\n",
       "<table border=\"1\" class=\"dataframe\">\n",
       "  <thead>\n",
       "    <tr style=\"text-align: right;\">\n",
       "      <th></th>\n",
       "      <th>lang</th>\n",
       "      <th>user.screen_name</th>\n",
       "      <th>from</th>\n",
       "    </tr>\n",
       "  </thead>\n",
       "  <tbody>\n",
       "    <tr>\n",
       "      <th>1939</th>\n",
       "      <td>und</td>\n",
       "      <td>POTUS</td>\n",
       "      <td>from_quoted_status</td>\n",
       "    </tr>\n",
       "    <tr>\n",
       "      <th>2124</th>\n",
       "      <td>und</td>\n",
       "      <td>netanyahu</td>\n",
       "      <td>from_quoted_status</td>\n",
       "    </tr>\n",
       "  </tbody>\n",
       "</table>\n",
       "</div>"
      ],
      "text/plain": [
       "     lang user.screen_name                from\n",
       "1939  und            POTUS  from_quoted_status\n",
       "2124  und        netanyahu  from_quoted_status"
      ]
     },
     "metadata": {},
     "output_type": "display_data"
    },
    {
     "name": "stdout",
     "output_type": "stream",
     "text": [
      "Democrate non english tweets\n"
     ]
    },
    {
     "data": {
      "text/html": [
       "<div>\n",
       "<style>\n",
       "    .dataframe thead tr:only-child th {\n",
       "        text-align: right;\n",
       "    }\n",
       "\n",
       "    .dataframe thead th {\n",
       "        text-align: left;\n",
       "    }\n",
       "\n",
       "    .dataframe tbody tr th {\n",
       "        vertical-align: top;\n",
       "    }\n",
       "</style>\n",
       "<table border=\"1\" class=\"dataframe\">\n",
       "  <thead>\n",
       "    <tr style=\"text-align: right;\">\n",
       "      <th></th>\n",
       "      <th>lang</th>\n",
       "      <th>user.screen_name</th>\n",
       "      <th>from</th>\n",
       "    </tr>\n",
       "  </thead>\n",
       "  <tbody>\n",
       "    <tr>\n",
       "      <th>630</th>\n",
       "      <td>ro</td>\n",
       "      <td>MinnesotaDFL</td>\n",
       "      <td>from_quoted_status</td>\n",
       "    </tr>\n",
       "  </tbody>\n",
       "</table>\n",
       "</div>"
      ],
      "text/plain": [
       "    lang user.screen_name                from\n",
       "630   ro     MinnesotaDFL  from_quoted_status"
      ]
     },
     "metadata": {},
     "output_type": "display_data"
    }
   ],
   "source": [
    "print('Republican non english tweets')\n",
    "display(rep.loc[~rep['lang'].str.contains('en'), ['lang', 'user.screen_name', 'from']])\n",
    "print('Democrate non english tweets')\n",
    "display(dem.loc[~dem['lang'].str.contains('en'), ['lang', 'user.screen_name', 'from']])"
   ]
  },
  {
   "cell_type": "markdown",
   "metadata": {},
   "source": [
    "Lets see how many tweets were retweets and display any that were created by users that are not our two accounts of interest:\n",
    "\n",
    "**** RETWEET & QUOTED status **** \n",
    "retweets and quoted now correctly captured, 'from' field needs to be enhanced to make it easy to id and process out retweeted or quoted tweets, using from as it is not can ensure no double counting\n",
    "also need to be able to easily find which tweet was the retweet - ie keeps the pairs together - although idx in the df may be enough\n",
    "\n",
    "meaning on retweet flag given text \"RT @CTDems: .@MayorMark won't stand up for our...\" 4th from top - https://stackoverflow.com/questions/18869688/twitter-api-check-if-a-tweet-is-a-retweet\n",
    "Retweeting: the old way was to add 'RT @' to the tweet but now their is a new formal Twitter API Retweet, the 'retweeted_status' appears only if retweeted and contains the original , "
   ]
  },
  {
   "cell_type": "code",
   "execution_count": 7,
   "metadata": {
    "scrolled": true
   },
   "outputs": [
    {
     "name": "stdout",
     "output_type": "stream",
     "text": [
      "Republicans have retweeted 0 times\n",
      "Democrats have retweeted 0 times\n"
     ]
    }
   ],
   "source": [
    "print('Republicans have retweeted {} times'.format(len(rep[rep['from']=='from_retweeted_status']['retweeted'])))\n",
    "print('Democrats have retweeted {} times'.format(len(dem[dem['retweeted']==True]['retweeted'])))"
   ]
  },
  {
   "cell_type": "code",
   "execution_count": 11,
   "metadata": {},
   "outputs": [
    {
     "data": {
      "text/html": [
       "<div>\n",
       "<style>\n",
       "    .dataframe thead tr:only-child th {\n",
       "        text-align: right;\n",
       "    }\n",
       "\n",
       "    .dataframe thead th {\n",
       "        text-align: left;\n",
       "    }\n",
       "\n",
       "    .dataframe tbody tr th {\n",
       "        vertical-align: top;\n",
       "    }\n",
       "</style>\n",
       "<table border=\"1\" class=\"dataframe\">\n",
       "  <thead>\n",
       "    <tr style=\"text-align: right;\">\n",
       "      <th></th>\n",
       "      <th>id</th>\n",
       "      <th>user.screen_name</th>\n",
       "      <th>in_reply_to_screen_name</th>\n",
       "      <th>created_at</th>\n",
       "      <th>favorite_count</th>\n",
       "      <th>favorited</th>\n",
       "      <th>retweet_count</th>\n",
       "      <th>retweeted</th>\n",
       "      <th>truncated</th>\n",
       "      <th>lang</th>\n",
       "      <th>text</th>\n",
       "    </tr>\n",
       "  </thead>\n",
       "  <tbody>\n",
       "  </tbody>\n",
       "</table>\n",
       "</div>"
      ],
      "text/plain": [
       "Empty DataFrame\n",
       "Columns: [id, user.screen_name, in_reply_to_screen_name, created_at, favorite_count, favorited, retweet_count, retweeted, truncated, lang, text]\n",
       "Index: []"
      ]
     },
     "execution_count": 11,
     "metadata": {},
     "output_type": "execute_result"
    }
   ],
   "source": [
    "rep[rep['user.screen_name'] != 'GOP']"
   ]
  },
  {
   "cell_type": "code",
   "execution_count": 12,
   "metadata": {},
   "outputs": [
    {
     "data": {
      "text/html": [
       "<div>\n",
       "<style>\n",
       "    .dataframe thead tr:only-child th {\n",
       "        text-align: right;\n",
       "    }\n",
       "\n",
       "    .dataframe thead th {\n",
       "        text-align: left;\n",
       "    }\n",
       "\n",
       "    .dataframe tbody tr th {\n",
       "        vertical-align: top;\n",
       "    }\n",
       "</style>\n",
       "<table border=\"1\" class=\"dataframe\">\n",
       "  <thead>\n",
       "    <tr style=\"text-align: right;\">\n",
       "      <th></th>\n",
       "      <th>id</th>\n",
       "      <th>user.screen_name</th>\n",
       "      <th>in_reply_to_screen_name</th>\n",
       "      <th>created_at</th>\n",
       "      <th>favorite_count</th>\n",
       "      <th>favorited</th>\n",
       "      <th>retweet_count</th>\n",
       "      <th>retweeted</th>\n",
       "      <th>truncated</th>\n",
       "      <th>lang</th>\n",
       "      <th>text</th>\n",
       "    </tr>\n",
       "  </thead>\n",
       "  <tbody>\n",
       "  </tbody>\n",
       "</table>\n",
       "</div>"
      ],
      "text/plain": [
       "Empty DataFrame\n",
       "Columns: [id, user.screen_name, in_reply_to_screen_name, created_at, favorite_count, favorited, retweet_count, retweeted, truncated, lang, text]\n",
       "Index: []"
      ]
     },
     "execution_count": 12,
     "metadata": {},
     "output_type": "execute_result"
    }
   ],
   "source": [
    "dem[dem['user.screen_name'] != 'TheDemocrats']"
   ]
  },
  {
   "cell_type": "markdown",
   "metadata": {},
   "source": [
    "As we would expect there are no tweets created by someone else as there are no tweets in either account that have the 'retweeted' flag set to True."
   ]
  },
  {
   "cell_type": "markdown",
   "metadata": {},
   "source": [
    "Now lets look at the in_reply_to_screen_name column: Have either party answered someone's tweets and if so who?"
   ]
  },
  {
   "cell_type": "code",
   "execution_count": 8,
   "metadata": {},
   "outputs": [
    {
     "name": "stdout",
     "output_type": "stream",
     "text": [
      "GOP                41\n",
      "realDonaldTrump     1\n",
      "POTUS               1\n",
      "Name: in_reply_to_screen_name, dtype: int64\n",
      "Total tweets in response to someone: 43 \n",
      "\n",
      "TheDemocrats    76\n",
      "keithellison     1\n",
      "Name: in_reply_to_screen_name, dtype: int64\n",
      "Total tweets in response to someone: 77\n"
     ]
    }
   ],
   "source": [
    "#len(rep.loc[rep['in_reply_to_screen_name'].notnull(),['in_reply_to_screen_name','text']])\n",
    "#len(dem.loc[dem['in_reply_to_screen_name'].notnull(),['in_reply_to_screen_name','text']])\n",
    "\n",
    "drep = rep.loc[rep['from'].str.contains('regular'),:]     # only analysing target accounts direct tweets\n",
    "ddem = dem.loc[dem['from'].str.contains('regular'),:]\n",
    "\n",
    "print(drep.in_reply_to_screen_name.value_counts())\n",
    "print('Total tweets in response to someone: {} \\n'.format(len(drep[drep['in_reply_to_screen_name'].notnull()])))\n",
    "print(ddem.in_reply_to_screen_name.value_counts())\n",
    "print('Total tweets in response to someone: {}'.format(len(ddem[ddem['in_reply_to_screen_name'].notnull()])))"
   ]
  },
  {
   "cell_type": "markdown",
   "metadata": {},
   "source": [
    "Its interesting to note that by far the most common reply for both parties is replying to their own tweet, likely in an effort drive its interest and reach - Time to start looking at likes and favorites and maybe see if these relate to which tweets got responded too!"
   ]
  },
  {
   "cell_type": "code",
   "execution_count": 9,
   "metadata": {},
   "outputs": [
    {
     "name": "stdout",
     "output_type": "stream",
     "text": [
      "The tweet with the smallest number of favorites has 0 favorites for the Democrats and 0 for Republicans.\n",
      "In fact the Democrats have 59 tweets with 0 favorites and the Republicans have 52.\n"
     ]
    },
    {
     "data": {
      "text/markdown": [
       "**5 of the Republican direct tweets with smallest favorite_count :**"
      ],
      "text/plain": [
       "<IPython.core.display.Markdown object>"
      ]
     },
     "metadata": {},
     "output_type": "display_data"
    },
    {
     "data": {
      "text/html": [
       "<div>\n",
       "<style>\n",
       "    .dataframe thead tr:only-child th {\n",
       "        text-align: right;\n",
       "    }\n",
       "\n",
       "    .dataframe thead th {\n",
       "        text-align: left;\n",
       "    }\n",
       "\n",
       "    .dataframe tbody tr th {\n",
       "        vertical-align: top;\n",
       "    }\n",
       "</style>\n",
       "<table border=\"1\" class=\"dataframe\">\n",
       "  <thead>\n",
       "    <tr style=\"text-align: right;\">\n",
       "      <th></th>\n",
       "      <th>created_at</th>\n",
       "      <th>user.screen_name</th>\n",
       "      <th>favorite_count</th>\n",
       "      <th>retweet_count</th>\n",
       "      <th>truncated</th>\n",
       "      <th>text</th>\n",
       "    </tr>\n",
       "  </thead>\n",
       "  <tbody>\n",
       "    <tr>\n",
       "      <th>1</th>\n",
       "      <td>2018-05-15 17:35:00</td>\n",
       "      <td>GOP</td>\n",
       "      <td>0</td>\n",
       "      <td>21</td>\n",
       "      <td>False</td>\n",
       "      <td>RT @RNCData: Our next Campaign Data College is...</td>\n",
       "    </tr>\n",
       "    <tr>\n",
       "      <th>3</th>\n",
       "      <td>2018-05-15 16:27:08</td>\n",
       "      <td>GOP</td>\n",
       "      <td>0</td>\n",
       "      <td>55</td>\n",
       "      <td>False</td>\n",
       "      <td>RT @GOPChairwoman: So proud of our community l...</td>\n",
       "    </tr>\n",
       "    <tr>\n",
       "      <th>6</th>\n",
       "      <td>2018-05-15 16:04:00</td>\n",
       "      <td>GOP</td>\n",
       "      <td>0</td>\n",
       "      <td>14335</td>\n",
       "      <td>False</td>\n",
       "      <td>RT @realDonaldTrump: Our great First Lady is d...</td>\n",
       "    </tr>\n",
       "    <tr>\n",
       "      <th>10</th>\n",
       "      <td>2018-05-14 22:40:00</td>\n",
       "      <td>GOP</td>\n",
       "      <td>0</td>\n",
       "      <td>2107</td>\n",
       "      <td>False</td>\n",
       "      <td>RT @IvankaTrump: Thank you Prime Minister @net...</td>\n",
       "    </tr>\n",
       "    <tr>\n",
       "      <th>12</th>\n",
       "      <td>2018-05-14 21:52:00</td>\n",
       "      <td>GOP</td>\n",
       "      <td>0</td>\n",
       "      <td>205</td>\n",
       "      <td>False</td>\n",
       "      <td>RT @GOPChairwoman: Praying for a swift recover...</td>\n",
       "    </tr>\n",
       "  </tbody>\n",
       "</table>\n",
       "</div>"
      ],
      "text/plain": [
       "             created_at user.screen_name  favorite_count  retweet_count  \\\n",
       "1   2018-05-15 17:35:00              GOP               0             21   \n",
       "3   2018-05-15 16:27:08              GOP               0             55   \n",
       "6   2018-05-15 16:04:00              GOP               0          14335   \n",
       "10  2018-05-14 22:40:00              GOP               0           2107   \n",
       "12  2018-05-14 21:52:00              GOP               0            205   \n",
       "\n",
       "    truncated                                               text  \n",
       "1       False  RT @RNCData: Our next Campaign Data College is...  \n",
       "3       False  RT @GOPChairwoman: So proud of our community l...  \n",
       "6       False  RT @realDonaldTrump: Our great First Lady is d...  \n",
       "10      False  RT @IvankaTrump: Thank you Prime Minister @net...  \n",
       "12      False  RT @GOPChairwoman: Praying for a swift recover...  "
      ]
     },
     "metadata": {},
     "output_type": "display_data"
    },
    {
     "data": {
      "text/markdown": [
       "**5 Republican tweets with largest favorite_count :**"
      ],
      "text/plain": [
       "<IPython.core.display.Markdown object>"
      ]
     },
     "metadata": {},
     "output_type": "display_data"
    },
    {
     "data": {
      "text/html": [
       "<div>\n",
       "<style>\n",
       "    .dataframe thead tr:only-child th {\n",
       "        text-align: right;\n",
       "    }\n",
       "\n",
       "    .dataframe thead th {\n",
       "        text-align: left;\n",
       "    }\n",
       "\n",
       "    .dataframe tbody tr th {\n",
       "        vertical-align: top;\n",
       "    }\n",
       "</style>\n",
       "<table border=\"1\" class=\"dataframe\">\n",
       "  <thead>\n",
       "    <tr style=\"text-align: right;\">\n",
       "      <th></th>\n",
       "      <th>created_at</th>\n",
       "      <th>user.screen_name</th>\n",
       "      <th>favorite_count</th>\n",
       "      <th>retweet_count</th>\n",
       "      <th>truncated</th>\n",
       "      <th>text</th>\n",
       "    </tr>\n",
       "  </thead>\n",
       "  <tbody>\n",
       "    <tr>\n",
       "      <th>289</th>\n",
       "      <td>2018-04-15 21:02:31</td>\n",
       "      <td>GOP</td>\n",
       "      <td>26555</td>\n",
       "      <td>5077</td>\n",
       "      <td>False</td>\n",
       "      <td>Our entire RNC family offers prayers of comfor...</td>\n",
       "    </tr>\n",
       "    <tr>\n",
       "      <th>1700</th>\n",
       "      <td>2017-08-30 21:22:56</td>\n",
       "      <td>GOP</td>\n",
       "      <td>26090</td>\n",
       "      <td>7497</td>\n",
       "      <td>False</td>\n",
       "      <td>.@POTUS: I want to work with Congress, Republi...</td>\n",
       "    </tr>\n",
       "    <tr>\n",
       "      <th>1679</th>\n",
       "      <td>2017-09-06 19:55:02</td>\n",
       "      <td>GOP</td>\n",
       "      <td>21914</td>\n",
       "      <td>5090</td>\n",
       "      <td>False</td>\n",
       "      <td>.@IvankaTrump: This administration is committe...</td>\n",
       "    </tr>\n",
       "    <tr>\n",
       "      <th>2468</th>\n",
       "      <td>2017-01-20 22:36:08</td>\n",
       "      <td>GOP</td>\n",
       "      <td>21025</td>\n",
       "      <td>5887</td>\n",
       "      <td>False</td>\n",
       "      <td>Congratulations to our newest Secretary of Def...</td>\n",
       "    </tr>\n",
       "    <tr>\n",
       "      <th>953</th>\n",
       "      <td>2018-01-09 01:40:54</td>\n",
       "      <td>GOP</td>\n",
       "      <td>18673</td>\n",
       "      <td>5061</td>\n",
       "      <td>False</td>\n",
       "      <td>Oh, say does that star-spangled banner yet wav...</td>\n",
       "    </tr>\n",
       "  </tbody>\n",
       "</table>\n",
       "</div>"
      ],
      "text/plain": [
       "               created_at user.screen_name  favorite_count  retweet_count  \\\n",
       "289   2018-04-15 21:02:31              GOP           26555           5077   \n",
       "1700  2017-08-30 21:22:56              GOP           26090           7497   \n",
       "1679  2017-09-06 19:55:02              GOP           21914           5090   \n",
       "2468  2017-01-20 22:36:08              GOP           21025           5887   \n",
       "953   2018-01-09 01:40:54              GOP           18673           5061   \n",
       "\n",
       "      truncated                                               text  \n",
       "289       False  Our entire RNC family offers prayers of comfor...  \n",
       "1700      False  .@POTUS: I want to work with Congress, Republi...  \n",
       "1679      False  .@IvankaTrump: This administration is committe...  \n",
       "2468      False  Congratulations to our newest Secretary of Def...  \n",
       "953       False  Oh, say does that star-spangled banner yet wav...  "
      ]
     },
     "metadata": {},
     "output_type": "display_data"
    },
    {
     "data": {
      "text/markdown": [
       "**5 of the Democrat direct tweets with smallest favorite_count :**"
      ],
      "text/plain": [
       "<IPython.core.display.Markdown object>"
      ]
     },
     "metadata": {},
     "output_type": "display_data"
    },
    {
     "data": {
      "text/html": [
       "<div>\n",
       "<style>\n",
       "    .dataframe thead tr:only-child th {\n",
       "        text-align: right;\n",
       "    }\n",
       "\n",
       "    .dataframe thead th {\n",
       "        text-align: left;\n",
       "    }\n",
       "\n",
       "    .dataframe tbody tr th {\n",
       "        vertical-align: top;\n",
       "    }\n",
       "</style>\n",
       "<table border=\"1\" class=\"dataframe\">\n",
       "  <thead>\n",
       "    <tr style=\"text-align: right;\">\n",
       "      <th></th>\n",
       "      <th>created_at</th>\n",
       "      <th>user.screen_name</th>\n",
       "      <th>favorite_count</th>\n",
       "      <th>retweet_count</th>\n",
       "      <th>truncated</th>\n",
       "      <th>text</th>\n",
       "    </tr>\n",
       "  </thead>\n",
       "  <tbody>\n",
       "    <tr>\n",
       "      <th>0</th>\n",
       "      <td>2018-05-15 19:21:06</td>\n",
       "      <td>TheDemocrats</td>\n",
       "      <td>0</td>\n",
       "      <td>21</td>\n",
       "      <td>False</td>\n",
       "      <td>RT @NebraskaDems: Polls open TODAY 8am-8pm CT....</td>\n",
       "    </tr>\n",
       "    <tr>\n",
       "      <th>2</th>\n",
       "      <td>2018-05-15 18:25:02</td>\n",
       "      <td>TheDemocrats</td>\n",
       "      <td>0</td>\n",
       "      <td>70</td>\n",
       "      <td>False</td>\n",
       "      <td>RT @PADems: Polls are OPEN! Make sure you vote...</td>\n",
       "    </tr>\n",
       "    <tr>\n",
       "      <th>7</th>\n",
       "      <td>2018-05-14 19:17:08</td>\n",
       "      <td>TheDemocrats</td>\n",
       "      <td>0</td>\n",
       "      <td>105</td>\n",
       "      <td>False</td>\n",
       "      <td>RT @texasdemocrats: Polls are open! Go vote in...</td>\n",
       "    </tr>\n",
       "    <tr>\n",
       "      <th>11</th>\n",
       "      <td>2018-05-13 00:44:51</td>\n",
       "      <td>TheDemocrats</td>\n",
       "      <td>0</td>\n",
       "      <td>61</td>\n",
       "      <td>False</td>\n",
       "      <td>RT @CTDems: .@MayorMark won't stand up for our...</td>\n",
       "    </tr>\n",
       "    <tr>\n",
       "      <th>14</th>\n",
       "      <td>2018-05-12 20:14:16</td>\n",
       "      <td>TheDemocrats</td>\n",
       "      <td>0</td>\n",
       "      <td>71</td>\n",
       "      <td>False</td>\n",
       "      <td>RT @INDems: Ready to elect more Hoosier Democr...</td>\n",
       "    </tr>\n",
       "  </tbody>\n",
       "</table>\n",
       "</div>"
      ],
      "text/plain": [
       "             created_at user.screen_name  favorite_count  retweet_count  \\\n",
       "0   2018-05-15 19:21:06     TheDemocrats               0             21   \n",
       "2   2018-05-15 18:25:02     TheDemocrats               0             70   \n",
       "7   2018-05-14 19:17:08     TheDemocrats               0            105   \n",
       "11  2018-05-13 00:44:51     TheDemocrats               0             61   \n",
       "14  2018-05-12 20:14:16     TheDemocrats               0             71   \n",
       "\n",
       "    truncated                                               text  \n",
       "0       False  RT @NebraskaDems: Polls open TODAY 8am-8pm CT....  \n",
       "2       False  RT @PADems: Polls are OPEN! Make sure you vote...  \n",
       "7       False  RT @texasdemocrats: Polls are open! Go vote in...  \n",
       "11      False  RT @CTDems: .@MayorMark won't stand up for our...  \n",
       "14      False  RT @INDems: Ready to elect more Hoosier Democr...  "
      ]
     },
     "metadata": {},
     "output_type": "display_data"
    },
    {
     "data": {
      "text/markdown": [
       "**5 Democrat tweets with largest favorite_count :**"
      ],
      "text/plain": [
       "<IPython.core.display.Markdown object>"
      ]
     },
     "metadata": {},
     "output_type": "display_data"
    },
    {
     "data": {
      "text/html": [
       "<div>\n",
       "<style>\n",
       "    .dataframe thead tr:only-child th {\n",
       "        text-align: right;\n",
       "    }\n",
       "\n",
       "    .dataframe thead th {\n",
       "        text-align: left;\n",
       "    }\n",
       "\n",
       "    .dataframe tbody tr th {\n",
       "        vertical-align: top;\n",
       "    }\n",
       "</style>\n",
       "<table border=\"1\" class=\"dataframe\">\n",
       "  <thead>\n",
       "    <tr style=\"text-align: right;\">\n",
       "      <th></th>\n",
       "      <th>created_at</th>\n",
       "      <th>user.screen_name</th>\n",
       "      <th>favorite_count</th>\n",
       "      <th>retweet_count</th>\n",
       "      <th>truncated</th>\n",
       "      <th>text</th>\n",
       "    </tr>\n",
       "  </thead>\n",
       "  <tbody>\n",
       "    <tr>\n",
       "      <th>1074</th>\n",
       "      <td>2017-11-08 03:23:50</td>\n",
       "      <td>TheDemocrats</td>\n",
       "      <td>21883</td>\n",
       "      <td>6217</td>\n",
       "      <td>False</td>\n",
       "      <td>Hey @GOP, looks like America wants to be great...</td>\n",
       "    </tr>\n",
       "    <tr>\n",
       "      <th>2522</th>\n",
       "      <td>2017-02-24 17:15:38</td>\n",
       "      <td>TheDemocrats</td>\n",
       "      <td>13739</td>\n",
       "      <td>6230</td>\n",
       "      <td>False</td>\n",
       "      <td>A message from @HillaryClinton: \"Let resistanc...</td>\n",
       "    </tr>\n",
       "    <tr>\n",
       "      <th>470</th>\n",
       "      <td>2018-03-14 05:13:46</td>\n",
       "      <td>TheDemocrats</td>\n",
       "      <td>11034</td>\n",
       "      <td>3145</td>\n",
       "      <td>False</td>\n",
       "      <td>We have our first flipped House seat of 2018! ...</td>\n",
       "    </tr>\n",
       "    <tr>\n",
       "      <th>660</th>\n",
       "      <td>2018-02-07 02:25:15</td>\n",
       "      <td>TheDemocrats</td>\n",
       "      <td>10158</td>\n",
       "      <td>3177</td>\n",
       "      <td>False</td>\n",
       "      <td>We're coming for every Republican in every sea...</td>\n",
       "    </tr>\n",
       "    <tr>\n",
       "      <th>814</th>\n",
       "      <td>2018-01-07 16:07:11</td>\n",
       "      <td>TheDemocrats</td>\n",
       "      <td>10002</td>\n",
       "      <td>3788</td>\n",
       "      <td>False</td>\n",
       "      <td>Let's elect:\\n\\n✅Black women\\n✅LGBT women\\n✅Mu...</td>\n",
       "    </tr>\n",
       "  </tbody>\n",
       "</table>\n",
       "</div>"
      ],
      "text/plain": [
       "               created_at user.screen_name  favorite_count  retweet_count  \\\n",
       "1074  2017-11-08 03:23:50     TheDemocrats           21883           6217   \n",
       "2522  2017-02-24 17:15:38     TheDemocrats           13739           6230   \n",
       "470   2018-03-14 05:13:46     TheDemocrats           11034           3145   \n",
       "660   2018-02-07 02:25:15     TheDemocrats           10158           3177   \n",
       "814   2018-01-07 16:07:11     TheDemocrats           10002           3788   \n",
       "\n",
       "      truncated                                               text  \n",
       "1074      False  Hey @GOP, looks like America wants to be great...  \n",
       "2522      False  A message from @HillaryClinton: \"Let resistanc...  \n",
       "470       False  We have our first flipped House seat of 2018! ...  \n",
       "660       False  We're coming for every Republican in every sea...  \n",
       "814       False  Let's elect:\\n\\n✅Black women\\n✅LGBT women\\n✅Mu...  "
      ]
     },
     "metadata": {},
     "output_type": "display_data"
    }
   ],
   "source": [
    "print(\"The tweet with the smallest number of favorites has {} favorites for the Democrats and {} for Republicans.\".format(min(ddem['favorite_count']), min(drep['favorite_count'])))\n",
    "print(\"In fact the Democrats have {} tweets with 0 favorites and the Republicans have {}.\".format(len(ddem[ddem['favorite_count'] == 0]),len(drep[drep['favorite_count'] == 0])))\n",
    "\n",
    "display(Markdown('**5 of the Republican direct tweets with smallest favorite_count :**'))\n",
    "display(drep.nsmallest(5,['favorite_count'])[['created_at', 'user.screen_name', 'favorite_count', 'retweet_count', 'truncated', 'text']])\n",
    "display(Markdown('**5 Republican tweets with largest favorite_count :**'))\n",
    "display(drep.nlargest(5,['favorite_count'])[['created_at', 'user.screen_name', 'favorite_count', 'retweet_count', 'truncated', 'text']])\n",
    "\n",
    "display(Markdown('**5 of the Democrat direct tweets with smallest favorite_count :**'))\n",
    "display(ddem.nsmallest(5,['favorite_count'])[['created_at', 'user.screen_name', 'favorite_count', 'retweet_count', 'truncated', 'text']])\n",
    "display(Markdown('**5 Democrat tweets with largest favorite_count :**'))\n",
    "display(ddem.nlargest(5,['favorite_count'])[['created_at','user.screen_name', 'favorite_count', 'retweet_count', 'truncated', 'text']])"
   ]
  },
  {
   "cell_type": "markdown",
   "metadata": {},
   "source": [
    "Its interesting to notice that all these high performing tweets are nothing in comparison to some of the tweets the accounts have quoted or retweeted:"
   ]
  },
  {
   "cell_type": "code",
   "execution_count": 10,
   "metadata": {},
   "outputs": [
    {
     "data": {
      "text/markdown": [
       "**5 Republican retweets or quoted tweets with largest favorite_count :**"
      ],
      "text/plain": [
       "<IPython.core.display.Markdown object>"
      ]
     },
     "metadata": {},
     "output_type": "display_data"
    },
    {
     "data": {
      "text/html": [
       "<div>\n",
       "<style>\n",
       "    .dataframe thead tr:only-child th {\n",
       "        text-align: right;\n",
       "    }\n",
       "\n",
       "    .dataframe thead th {\n",
       "        text-align: left;\n",
       "    }\n",
       "\n",
       "    .dataframe tbody tr th {\n",
       "        vertical-align: top;\n",
       "    }\n",
       "</style>\n",
       "<table border=\"1\" class=\"dataframe\">\n",
       "  <thead>\n",
       "    <tr style=\"text-align: right;\">\n",
       "      <th></th>\n",
       "      <th>created_at</th>\n",
       "      <th>user.screen_name</th>\n",
       "      <th>from</th>\n",
       "      <th>favorite_count</th>\n",
       "      <th>retweet_count</th>\n",
       "      <th>truncated</th>\n",
       "      <th>text</th>\n",
       "    </tr>\n",
       "  </thead>\n",
       "  <tbody>\n",
       "    <tr>\n",
       "      <th>42</th>\n",
       "      <td>2018-05-10 14:37:57</td>\n",
       "      <td>realDonaldTrump</td>\n",
       "      <td>from_retweeted_status</td>\n",
       "      <td>236249</td>\n",
       "      <td>63101</td>\n",
       "      <td>False</td>\n",
       "      <td>The highly anticipated meeting between Kim Jon...</td>\n",
       "    </tr>\n",
       "    <tr>\n",
       "      <th>217</th>\n",
       "      <td>2018-04-25 19:38:27</td>\n",
       "      <td>kanyewest</td>\n",
       "      <td>from_quoted_status</td>\n",
       "      <td>218030</td>\n",
       "      <td>60331</td>\n",
       "      <td>False</td>\n",
       "      <td>my MAGA hat is signed 🔥🔥🔥🔥🔥🔥🔥🔥🔥🔥🔥🔥🔥🔥🔥🔥🔥🔥🔥🔥🔥🔥🔥🔥...</td>\n",
       "    </tr>\n",
       "    <tr>\n",
       "      <th>48</th>\n",
       "      <td>2018-05-10 10:01:43</td>\n",
       "      <td>realDonaldTrump</td>\n",
       "      <td>from_retweeted_status</td>\n",
       "      <td>188624</td>\n",
       "      <td>49810</td>\n",
       "      <td>False</td>\n",
       "      <td>On behalf of the American people, WELCOME HOME...</td>\n",
       "    </tr>\n",
       "    <tr>\n",
       "      <th>65</th>\n",
       "      <td>2018-05-09 12:35:51</td>\n",
       "      <td>realDonaldTrump</td>\n",
       "      <td>from_retweeted_status</td>\n",
       "      <td>120529</td>\n",
       "      <td>27747</td>\n",
       "      <td>False</td>\n",
       "      <td>Secretary Pompeo and his “guests” will be land...</td>\n",
       "    </tr>\n",
       "    <tr>\n",
       "      <th>110</th>\n",
       "      <td>2018-04-30 18:54:28</td>\n",
       "      <td>realDonaldTrump</td>\n",
       "      <td>from_quoted_status</td>\n",
       "      <td>115492</td>\n",
       "      <td>27368</td>\n",
       "      <td>False</td>\n",
       "      <td>I recently had a terrific meeting with a bipar...</td>\n",
       "    </tr>\n",
       "  </tbody>\n",
       "</table>\n",
       "</div>"
      ],
      "text/plain": [
       "              created_at user.screen_name                   from  \\\n",
       "42   2018-05-10 14:37:57  realDonaldTrump  from_retweeted_status   \n",
       "217  2018-04-25 19:38:27        kanyewest     from_quoted_status   \n",
       "48   2018-05-10 10:01:43  realDonaldTrump  from_retweeted_status   \n",
       "65   2018-05-09 12:35:51  realDonaldTrump  from_retweeted_status   \n",
       "110  2018-04-30 18:54:28  realDonaldTrump     from_quoted_status   \n",
       "\n",
       "     favorite_count  retweet_count  truncated  \\\n",
       "42           236249          63101      False   \n",
       "217          218030          60331      False   \n",
       "48           188624          49810      False   \n",
       "65           120529          27747      False   \n",
       "110          115492          27368      False   \n",
       "\n",
       "                                                  text  \n",
       "42   The highly anticipated meeting between Kim Jon...  \n",
       "217  my MAGA hat is signed 🔥🔥🔥🔥🔥🔥🔥🔥🔥🔥🔥🔥🔥🔥🔥🔥🔥🔥🔥🔥🔥🔥🔥🔥...  \n",
       "48   On behalf of the American people, WELCOME HOME...  \n",
       "65   Secretary Pompeo and his “guests” will be land...  \n",
       "110  I recently had a terrific meeting with a bipar...  "
      ]
     },
     "metadata": {},
     "output_type": "display_data"
    },
    {
     "data": {
      "text/markdown": [
       "**5 Democrat retweets or quoted tweets with largest favorite_count :**"
      ],
      "text/plain": [
       "<IPython.core.display.Markdown object>"
      ]
     },
     "metadata": {},
     "output_type": "display_data"
    },
    {
     "data": {
      "text/html": [
       "<div>\n",
       "<style>\n",
       "    .dataframe thead tr:only-child th {\n",
       "        text-align: right;\n",
       "    }\n",
       "\n",
       "    .dataframe thead th {\n",
       "        text-align: left;\n",
       "    }\n",
       "\n",
       "    .dataframe tbody tr th {\n",
       "        vertical-align: top;\n",
       "    }\n",
       "</style>\n",
       "<table border=\"1\" class=\"dataframe\">\n",
       "  <thead>\n",
       "    <tr style=\"text-align: right;\">\n",
       "      <th></th>\n",
       "      <th>created_at</th>\n",
       "      <th>user.screen_name</th>\n",
       "      <th>from</th>\n",
       "      <th>favorite_count</th>\n",
       "      <th>retweet_count</th>\n",
       "      <th>truncated</th>\n",
       "      <th>text</th>\n",
       "    </tr>\n",
       "  </thead>\n",
       "  <tbody>\n",
       "    <tr>\n",
       "      <th>2555</th>\n",
       "      <td>2017-02-09 23:35:49</td>\n",
       "      <td>realDonaldTrump</td>\n",
       "      <td>from_quoted_status</td>\n",
       "      <td>227518</td>\n",
       "      <td>63760</td>\n",
       "      <td>False</td>\n",
       "      <td>SEE YOU IN COURT, THE SECURITY OF OUR NATION I...</td>\n",
       "    </tr>\n",
       "    <tr>\n",
       "      <th>2561</th>\n",
       "      <td>2016-11-11 02:19:44</td>\n",
       "      <td>realDonaldTrump</td>\n",
       "      <td>from_quoted_status</td>\n",
       "      <td>218752</td>\n",
       "      <td>64735</td>\n",
       "      <td>False</td>\n",
       "      <td>Just had a very open and successful presidenti...</td>\n",
       "    </tr>\n",
       "    <tr>\n",
       "      <th>2559</th>\n",
       "      <td>2017-02-17 21:48:22</td>\n",
       "      <td>realDonaldTrump</td>\n",
       "      <td>from_quoted_status</td>\n",
       "      <td>156085</td>\n",
       "      <td>50902</td>\n",
       "      <td>False</td>\n",
       "      <td>The FAKE NEWS media (failing @nytimes, @NBCNew...</td>\n",
       "    </tr>\n",
       "    <tr>\n",
       "      <th>1822</th>\n",
       "      <td>2017-06-16 13:07:55</td>\n",
       "      <td>realDonaldTrump</td>\n",
       "      <td>from_quoted_status</td>\n",
       "      <td>147384</td>\n",
       "      <td>46512</td>\n",
       "      <td>False</td>\n",
       "      <td>I am being investigated for firing the FBI Dir...</td>\n",
       "    </tr>\n",
       "    <tr>\n",
       "      <th>464</th>\n",
       "      <td>2018-03-14 19:18:03</td>\n",
       "      <td>ConorLambPA</td>\n",
       "      <td>from_quoted_status</td>\n",
       "      <td>143234</td>\n",
       "      <td>21893</td>\n",
       "      <td>False</td>\n",
       "      <td>We did it. \\n\\nFrom the bottom of my heart, th...</td>\n",
       "    </tr>\n",
       "  </tbody>\n",
       "</table>\n",
       "</div>"
      ],
      "text/plain": [
       "               created_at user.screen_name                from  \\\n",
       "2555  2017-02-09 23:35:49  realDonaldTrump  from_quoted_status   \n",
       "2561  2016-11-11 02:19:44  realDonaldTrump  from_quoted_status   \n",
       "2559  2017-02-17 21:48:22  realDonaldTrump  from_quoted_status   \n",
       "1822  2017-06-16 13:07:55  realDonaldTrump  from_quoted_status   \n",
       "464   2018-03-14 19:18:03      ConorLambPA  from_quoted_status   \n",
       "\n",
       "      favorite_count  retweet_count  truncated  \\\n",
       "2555          227518          63760      False   \n",
       "2561          218752          64735      False   \n",
       "2559          156085          50902      False   \n",
       "1822          147384          46512      False   \n",
       "464           143234          21893      False   \n",
       "\n",
       "                                                   text  \n",
       "2555  SEE YOU IN COURT, THE SECURITY OF OUR NATION I...  \n",
       "2561  Just had a very open and successful presidenti...  \n",
       "2559  The FAKE NEWS media (failing @nytimes, @NBCNew...  \n",
       "1822  I am being investigated for firing the FBI Dir...  \n",
       "464   We did it. \\n\\nFrom the bottom of my heart, th...  "
      ]
     },
     "metadata": {},
     "output_type": "display_data"
    }
   ],
   "source": [
    "display(Markdown('**5 Republican retweets or quoted tweets with largest favorite_count :**'))\n",
    "display(rep.nlargest(5,['favorite_count'])[['created_at', 'user.screen_name', 'from', 'favorite_count', 'retweet_count', 'truncated', 'text']])\n",
    "display(Markdown('**5 Democrat retweets or quoted tweets with largest favorite_count :**'))\n",
    "display(dem.nlargest(5,['favorite_count'])[['created_at','user.screen_name', 'from', 'favorite_count', 'retweet_count', 'truncated', 'text']])"
   ]
  },
  {
   "cell_type": "markdown",
   "metadata": {},
   "source": [
    "TODO: need to explore what % of tweets are these 'quoted tweets' and what quote was added by the dems - ie validate that we are likely to be able to see valid features without confusing our model with the original tweek. "
   ]
  },
  {
   "cell_type": "markdown",
   "metadata": {},
   "source": [
    "# When they tweet\n",
    "Lets look at when they tweet:\n",
    "To manipulate the tweet created_at times effectively you need to create a Datetime object from the string:"
   ]
  },
  {
   "cell_type": "code",
   "execution_count": 11,
   "metadata": {},
   "outputs": [
    {
     "name": "stdout",
     "output_type": "stream",
     "text": [
      "There are 13 columns in both data sets :\n",
      "   id_str\n",
      "   user.screen_name\n",
      "   in_reply_to_screen_name\n",
      "   created_at\n",
      "   favorite_count\n",
      "   quote_count\n",
      "   reply_count\n",
      "   retweet_count\n",
      "   truncated\n",
      "   lang\n",
      "   text\n",
      "   from\n",
      "   created_at_date_col\n"
     ]
    }
   ],
   "source": [
    "def add_created_at_date_col(df):\n",
    "    df['created_at_date_col'] = df['created_at'].apply(lambda x: datetime.strptime(x, '%Y-%m-%d %H:%M:%S'))\n",
    "\n",
    "add_created_at_date_col(rep)\n",
    "add_created_at_date_col(dem)\n",
    "\n",
    "explore_columns(rep, dem)"
   ]
  },
  {
   "cell_type": "code",
   "execution_count": 12,
   "metadata": {},
   "outputs": [
    {
     "ename": "NameError",
     "evalue": "name 'matplotlib' is not defined",
     "output_type": "error",
     "traceback": [
      "\u001b[0;31m---------------------------------------------------------------------------\u001b[0m",
      "\u001b[0;31mNameError\u001b[0m                                 Traceback (most recent call last)",
      "\u001b[0;32m<ipython-input-12-057b96d87d72>\u001b[0m in \u001b[0;36m<module>\u001b[0;34m()\u001b[0m\n\u001b[1;32m      5\u001b[0m \u001b[0;34m\u001b[0m\u001b[0m\n\u001b[1;32m      6\u001b[0m \u001b[0mplt\u001b[0m\u001b[0;34m.\u001b[0m\u001b[0msubplot\u001b[0m\u001b[0;34m(\u001b[0m\u001b[0;36m1\u001b[0m\u001b[0;34m,\u001b[0m\u001b[0;36m2\u001b[0m\u001b[0;34m,\u001b[0m\u001b[0;36m1\u001b[0m\u001b[0;34m)\u001b[0m\u001b[0;34m\u001b[0m\u001b[0m\n\u001b[0;32m----> 7\u001b[0;31m \u001b[0mdates\u001b[0m \u001b[0;34m=\u001b[0m \u001b[0;34m[\u001b[0m\u001b[0mmatplotlib\u001b[0m\u001b[0;34m.\u001b[0m\u001b[0mdates\u001b[0m\u001b[0;34m.\u001b[0m\u001b[0mdate2num\u001b[0m\u001b[0;34m(\u001b[0m\u001b[0mi\u001b[0m\u001b[0;34m)\u001b[0m \u001b[0;32mfor\u001b[0m \u001b[0mi\u001b[0m \u001b[0;32min\u001b[0m \u001b[0mdrep\u001b[0m\u001b[0;34m[\u001b[0m\u001b[0;34m'created_at_date_col'\u001b[0m\u001b[0;34m]\u001b[0m\u001b[0;34m]\u001b[0m\u001b[0;34m\u001b[0m\u001b[0m\n\u001b[0m\u001b[1;32m      8\u001b[0m \u001b[0mplt\u001b[0m\u001b[0;34m.\u001b[0m\u001b[0mplot_date\u001b[0m\u001b[0;34m(\u001b[0m\u001b[0mdates\u001b[0m\u001b[0;34m,\u001b[0m \u001b[0mdrep\u001b[0m\u001b[0;34m[\u001b[0m\u001b[0;34m'favorite_count'\u001b[0m\u001b[0;34m]\u001b[0m\u001b[0;34m)\u001b[0m\u001b[0;34m\u001b[0m\u001b[0m\n\u001b[1;32m      9\u001b[0m \u001b[0mplt\u001b[0m\u001b[0;34m.\u001b[0m\u001b[0myscale\u001b[0m\u001b[0;34m(\u001b[0m\u001b[0;34m'log'\u001b[0m\u001b[0;34m)\u001b[0m\u001b[0;34m\u001b[0m\u001b[0m\n",
      "\u001b[0;32m<ipython-input-12-057b96d87d72>\u001b[0m in \u001b[0;36m<listcomp>\u001b[0;34m(.0)\u001b[0m\n\u001b[1;32m      5\u001b[0m \u001b[0;34m\u001b[0m\u001b[0m\n\u001b[1;32m      6\u001b[0m \u001b[0mplt\u001b[0m\u001b[0;34m.\u001b[0m\u001b[0msubplot\u001b[0m\u001b[0;34m(\u001b[0m\u001b[0;36m1\u001b[0m\u001b[0;34m,\u001b[0m\u001b[0;36m2\u001b[0m\u001b[0;34m,\u001b[0m\u001b[0;36m1\u001b[0m\u001b[0;34m)\u001b[0m\u001b[0;34m\u001b[0m\u001b[0m\n\u001b[0;32m----> 7\u001b[0;31m \u001b[0mdates\u001b[0m \u001b[0;34m=\u001b[0m \u001b[0;34m[\u001b[0m\u001b[0mmatplotlib\u001b[0m\u001b[0;34m.\u001b[0m\u001b[0mdates\u001b[0m\u001b[0;34m.\u001b[0m\u001b[0mdate2num\u001b[0m\u001b[0;34m(\u001b[0m\u001b[0mi\u001b[0m\u001b[0;34m)\u001b[0m \u001b[0;32mfor\u001b[0m \u001b[0mi\u001b[0m \u001b[0;32min\u001b[0m \u001b[0mdrep\u001b[0m\u001b[0;34m[\u001b[0m\u001b[0;34m'created_at_date_col'\u001b[0m\u001b[0;34m]\u001b[0m\u001b[0;34m]\u001b[0m\u001b[0;34m\u001b[0m\u001b[0m\n\u001b[0m\u001b[1;32m      8\u001b[0m \u001b[0mplt\u001b[0m\u001b[0;34m.\u001b[0m\u001b[0mplot_date\u001b[0m\u001b[0;34m(\u001b[0m\u001b[0mdates\u001b[0m\u001b[0;34m,\u001b[0m \u001b[0mdrep\u001b[0m\u001b[0;34m[\u001b[0m\u001b[0;34m'favorite_count'\u001b[0m\u001b[0;34m]\u001b[0m\u001b[0;34m)\u001b[0m\u001b[0;34m\u001b[0m\u001b[0m\n\u001b[1;32m      9\u001b[0m \u001b[0mplt\u001b[0m\u001b[0;34m.\u001b[0m\u001b[0myscale\u001b[0m\u001b[0;34m(\u001b[0m\u001b[0;34m'log'\u001b[0m\u001b[0;34m)\u001b[0m\u001b[0;34m\u001b[0m\u001b[0m\n",
      "\u001b[0;31mNameError\u001b[0m: name 'matplotlib' is not defined"
     ]
    },
    {
     "data": {
      "image/png": "[encoded data removed]",
      "text/plain": [
       "<matplotlib.figure.Figure at 0x105f29320>"
      ]
     },
     "metadata": {},
     "output_type": "display_data"
    }
   ],
   "source": [
    "plt.rcParams[\"figure.figsize\"] = (20,6)\n",
    "\n",
    "drep = rep.loc[rep['from'].str.contains('regular'),:]     # only analysing target accounts direct tweets\n",
    "ddem = dem.loc[dem['from'].str.contains('regular'),:]\n",
    "\n",
    "plt.subplot(1,2,1)\n",
    "dates = [matplotlib.dates.date2num(i) for i in drep['created_at_date_col']]\n",
    "plt.plot_date(dates, drep['favorite_count'])\n",
    "plt.yscale('log')\n",
    "plt.xlabel('Tweet created date')\n",
    "plt.ylabel('Number of favorites/likes')\n",
    "plt.title('Democrat tweets')\n",
    "\n",
    "plt.subplot(1,2,2)\n",
    "dates = [matplotlib.dates.date2num(i) for i in ddem['created_at_date_col']]\n",
    "plt.plot_date(dates, ddem['favorite_count'])\n",
    "plt.yscale('log')\n",
    "plt.xlabel('Tweet created date')\n",
    "plt.ylabel('Number of favorites/likes')\n",
    "plt.title('Republican tweets')\n",
    "\n",
    "plt.show()"
   ]
  },
  {
   "cell_type": "code",
   "execution_count": 19,
   "metadata": {},
   "outputs": [
    {
     "data": {
      "image/png": "[encoded data removed]",
      "text/plain": [
       "<matplotlib.figure.Figure at 0x111468e80>"
      ]
     },
     "metadata": {},
     "output_type": "display_data"
    }
   ],
   "source": [
    "demdates = [matplotlib.dates.date2num(i) for i in ddem['created_at_date_col']]\n",
    "repdates = [matplotlib.dates.date2num(i) for i in drep['created_at_date_col']]\n",
    "plt.plot_date(repdates, drep['favorite_count'], 'r+', label='Republicans')\n",
    "plt.plot_date(demdates, ddem['favorite_count'], 'b+', label='Democrats')\n",
    "plt.yscale('log')\n",
    "plt.legend(loc='lower center')\n",
    "plt.ylabel('Number of favorites/likes (Log scale)')\n",
    "plt.title('@GOP and @TheDemocrats tweets, Favorite Count vs Date')\n",
    "plt.show()"
   ]
  },
  {
   "cell_type": "markdown",
   "metadata": {},
   "source": [
    "Looking at the plots above it looks like both parties get most of their tweets to be favorited between 100 and 5000 times, although the democrats have some low performing (from a favorited perspective) in Apr 2018. Both parties are also fairly consistent in volumn of tweets through out the 2+ year data period. It looks like the republicans may have been getting a little more frequent. Lets look at the most favoirted few tweets from each account:"
   ]
  },
  {
   "cell_type": "code",
   "execution_count": 126,
   "metadata": {},
   "outputs": [
    {
     "data": {
      "image/png": "[encoded data removed]",
      "text/plain": [
       "<matplotlib.figure.Figure at 0x11399e2e8>"
      ]
     },
     "metadata": {},
     "output_type": "display_data"
    }
   ],
   "source": [
    "plt.subplot(1,2,1)\n",
    "plt.scatter(drep['retweet_count'], drep['favorite_count'])\n",
    "plt.xlabel('Number of times tweet was retweeted')\n",
    "plt.ylabel('Number of favorites/likes')\n",
    "plt.title('Republican tweets')\n",
    "\n",
    "plt.subplot(1,2,2)\n",
    "plt.scatter(ddem['retweet_count'], ddem['favorite_count'])\n",
    "plt.xlabel('Number of times tweet was retweeted')\n",
    "plt.ylabel('Number of favorites/likes')\n",
    "plt.title('Democrat tweets')\n",
    "\n",
    "plt.show()"
   ]
  },
  {
   "cell_type": "markdown",
   "metadata": {
    "collapsed": true
   },
   "source": [
    "** Text lengths **\n",
    "\n",
    "looking at the distribution of the text lengths of the tweets"
   ]
  },
  {
   "cell_type": "code",
   "execution_count": 127,
   "metadata": {},
   "outputs": [
    {
     "data": {
      "image/png": "[encoded data removed]",
      "text/plain": [
       "<matplotlib.figure.Figure at 0x10b5a35c0>"
      ]
     },
     "metadata": {},
     "output_type": "display_data"
    }
   ],
   "source": [
    "plt.rcParams[\"figure.figsize\"] = (20,6)\n",
    "\n",
    "rep['text_len'] = rep['text'].apply(len)\n",
    "dem['text_len'] = dem['text'].apply(len)\n",
    "\n",
    "plt.subplot(1,2,1)\n",
    "plt.hist(rep['text_len'], bins=100)\n",
    "plt.title('Republican tweets')\n",
    "\n",
    "plt.subplot(1,2,2)\n",
    "plt.hist(dem['text_len'], bins=100)\n",
    "plt.title('Democrat tweets')\n",
    "\n",
    "plt.show()"
   ]
  },
  {
   "cell_type": "code",
   "execution_count": null,
   "metadata": {
    "collapsed": true
   },
   "outputs": [],
   "source": []
  }
 ],
 "metadata": {
  "kernelspec": {
   "display_name": "Python 3",
   "language": "python",
   "name": "python3"
  },
  "language_info": {
   "codemirror_mode": {
    "name": "ipython",
    "version": 3
   },
   "file_extension": ".py",
   "mimetype": "text/x-python",
   "name": "python",
   "nbconvert_exporter": "python",
   "pygments_lexer": "ipython3",
   "version": "3.6.2"
  }
 },
 "nbformat": 4,
 "nbformat_minor": 2
}
