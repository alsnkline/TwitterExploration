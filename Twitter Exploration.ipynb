{
 "cells": [
  {
   "cell_type": "markdown",
   "metadata": {},
   "source": [
    "# Twitter Exploration"
   ]
  },
  {
   "cell_type": "markdown",
   "metadata": {},
   "source": [
    "As a potential Data Analysis project I explored the publically available Tweeter API and what data can be easily accessed with it. I used the Tweepy library to wrap the Twitter API. I initially created a number of methods in Twitter_Access.py to exercise the search, home_timeline and user_timeline API methods and save the resulting data into .csv files for analysis with pandas."
   ]
  },
  {
   "cell_type": "code",
   "execution_count": 33,
   "metadata": {},
   "outputs": [
    {
     "name": "stdout",
     "output_type": "stream",
     "text": [
      "/Users/alisonkline/Code/TwitterExploration\n"
     ]
    }
   ],
   "source": [
    "import pandas as pd\n",
    "import os\n",
    "from datetime import datetime \n",
    "from Twitter_Access import get_twitter_api_obj\n",
    "from Twitter_Access import get_users_timeline\n",
    "import matplotlib\n",
    "import matplotlib.pyplot as plt\n",
    "%matplotlib inline\n",
    "from IPython.display import Markdown, display, HTML\n",
    "\n",
    "cwd = os.getcwd()\n",
    "print(cwd)"
   ]
  },
  {
   "cell_type": "markdown",
   "metadata": {},
   "source": [
    "I manually collected the twitter screen_names for some of the key democrate and republican twitter accounts.\n",
    "\n",
    "Here they are:\n",
    "\n",
    "Republican\n",
    "\n",
    "| Twitter Screen Name | Description of account |\n",
    "|---------------------|------------------------|\n",
    "| @GOP | The Grand Old Party, aka The Republicans |\n",
    "| @NRCC | The Republican Congressional Committee |\n",
    "| @HouseGOP | The House Republicans |\n",
    "| @SenateGOP | The Senate Republicans |\n",
    "\n",
    "Democrate\n",
    "\n",
    "| Twitter Screen Name | Description of account |\n",
    "|---------------------|------------------------|\n",
    "| @TheDemocrats | The Democrats |\n",
    "| @DNC | The Democratic National Committee |\n",
    "| @HouseDemocrats | The House Democrats |\n",
    "| @SenateDemocrats | The Senate Democrats |"
   ]
  },
  {
   "cell_type": "markdown",
   "metadata": {},
   "source": [
    "Then ran the user time_line method created in Twitter_Access.py on each account in turn to gather their tweet data. \n",
    "\n",
    "I need to create an API object first to handle the actual Twitter API authentication. This loads in the account keys I created and are linked to my private personal account. You can exchange them for your own by passing in a dictionary containing your values for 'consumer_key', 'consumer_secret', 'access_token', 'access_token_secret'."
   ]
  },
  {
   "cell_type": "code",
   "execution_count": 2,
   "metadata": {
    "collapsed": true
   },
   "outputs": [],
   "source": [
    "api = get_twitter_api_obj()"
   ]
  },
  {
   "cell_type": "code",
   "execution_count": 3,
   "metadata": {},
   "outputs": [
    {
     "name": "stdout",
     "output_type": "stream",
     "text": [
      "Obtained 1 tweet pages for user TheDemocrats.\n",
      "Obtained 2 tweet pages for user TheDemocrats.\n",
      "Obtained 3 tweet pages for user TheDemocrats.\n",
      "Obtained 4 tweet pages for user TheDemocrats.\n",
      "Obtained 5 tweet pages for user TheDemocrats.\n",
      "Obtained 6 tweet pages for user TheDemocrats.\n",
      "Obtained 7 tweet pages for user TheDemocrats.\n",
      "Obtained 8 tweet pages for user TheDemocrats.\n",
      "Obtained 9 tweet pages for user TheDemocrats.\n",
      "Obtained 10 tweet pages for user TheDemocrats.\n",
      "Obtained 11 tweet pages for user TheDemocrats.\n",
      "Obtained 12 tweet pages for user TheDemocrats.\n",
      "Obtained 13 tweet pages for user TheDemocrats.\n",
      "Obtained 14 tweet pages for user TheDemocrats.\n",
      "Obtained 15 tweet pages for user TheDemocrats.\n",
      "Obtained 16 tweet pages for user TheDemocrats.\n"
     ]
    }
   ],
   "source": [
    "#get_users_timeline(api, \"TheDemocrats\")"
   ]
  },
  {
   "cell_type": "markdown",
   "metadata": {},
   "source": [
    "# Analysing the data"
   ]
  },
  {
   "cell_type": "markdown",
   "metadata": {},
   "source": [
    "Initially just the two users @GOP and @TheDemocrats\n",
    "The dumped .csv files are available in the Data directory so the first task is to import the data into two Pandas Dataframes."
   ]
  },
  {
   "cell_type": "code",
   "execution_count": 3,
   "metadata": {
    "collapsed": true
   },
   "outputs": [],
   "source": [
    "rep = pd.read_csv(cwd+'/data/tweetsTimelineGOP.csv')\n",
    "dem = pd.read_csv(cwd+'/data/tweetsTimelineTheDemocrats.csv')"
   ]
  },
  {
   "cell_type": "code",
   "execution_count": 4,
   "metadata": {},
   "outputs": [
    {
     "name": "stdout",
     "output_type": "stream",
     "text": [
      "There are 11 columns in both data sets :\n",
      "   id\n",
      "   user.screen_name\n",
      "   in_reply_to_screen_name\n",
      "   created_at\n",
      "   favorite_count\n",
      "   favorited\n",
      "   retweet_count\n",
      "   retweeted\n",
      "   truncated\n",
      "   lang\n",
      "   text\n"
     ]
    }
   ],
   "source": [
    "def explore_columns(df1, df2):\n",
    "    print('There are {} columns in both data sets :'.format(rep.shape[1]))\n",
    "    for c in df1.columns.values:\n",
    "        if c in df2.columns.values:\n",
    "            print('   ' + c)\n",
    "        else:\n",
    "            print('Column ({}) only present in one dataset'.format(c))\n",
    "\n",
    "explore_columns(rep, dem)"
   ]
  },
  {
   "cell_type": "code",
   "execution_count": 5,
   "metadata": {},
   "outputs": [
    {
     "name": "stdout",
     "output_type": "stream",
     "text": [
      "Number of Republican tweets 2339 vs Democrat tweets 2423\n"
     ]
    }
   ],
   "source": [
    "print('Number of Republican tweets {} vs Democrat tweets {}'.format(rep.shape[0], dem.shape[0]))"
   ]
  },
  {
   "cell_type": "markdown",
   "metadata": {},
   "source": [
    "Giving a quick look at the top 5 entries in both data sets:"
   ]
  },
  {
   "cell_type": "code",
   "execution_count": 7,
   "metadata": {},
   "outputs": [
    {
     "data": {
      "text/html": [
       "<div>\n",
       "<style>\n",
       "    .dataframe thead tr:only-child th {\n",
       "        text-align: right;\n",
       "    }\n",
       "\n",
       "    .dataframe thead th {\n",
       "        text-align: left;\n",
       "    }\n",
       "\n",
       "    .dataframe tbody tr th {\n",
       "        vertical-align: top;\n",
       "    }\n",
       "</style>\n",
       "<table border=\"1\" class=\"dataframe\">\n",
       "  <thead>\n",
       "    <tr style=\"text-align: right;\">\n",
       "      <th></th>\n",
       "      <th>id</th>\n",
       "      <th>user.screen_name</th>\n",
       "      <th>in_reply_to_screen_name</th>\n",
       "      <th>created_at</th>\n",
       "      <th>favorite_count</th>\n",
       "      <th>favorited</th>\n",
       "      <th>retweet_count</th>\n",
       "      <th>retweeted</th>\n",
       "      <th>truncated</th>\n",
       "      <th>lang</th>\n",
       "      <th>text</th>\n",
       "    </tr>\n",
       "  </thead>\n",
       "  <tbody>\n",
       "    <tr>\n",
       "      <th>0</th>\n",
       "      <td>996066458131156992</td>\n",
       "      <td>GOP</td>\n",
       "      <td>NaN</td>\n",
       "      <td>2018-05-14 16:35:24</td>\n",
       "      <td>1950</td>\n",
       "      <td>False</td>\n",
       "      <td>555</td>\n",
       "      <td>False</td>\n",
       "      <td>False</td>\n",
       "      <td>en</td>\n",
       "      <td>Welcome to the United States Embassy in Jerusa...</td>\n",
       "    </tr>\n",
       "    <tr>\n",
       "      <th>1</th>\n",
       "      <td>996045253932191744</td>\n",
       "      <td>GOP</td>\n",
       "      <td>NaN</td>\n",
       "      <td>2018-05-14 15:11:08</td>\n",
       "      <td>2350</td>\n",
       "      <td>False</td>\n",
       "      <td>767</td>\n",
       "      <td>False</td>\n",
       "      <td>True</td>\n",
       "      <td>en</td>\n",
       "      <td>“On behalf of the 45th President of the United...</td>\n",
       "    </tr>\n",
       "    <tr>\n",
       "      <th>2</th>\n",
       "      <td>996025971617730562</td>\n",
       "      <td>GOP</td>\n",
       "      <td>NaN</td>\n",
       "      <td>2018-05-14 13:54:31</td>\n",
       "      <td>0</td>\n",
       "      <td>False</td>\n",
       "      <td>283</td>\n",
       "      <td>False</td>\n",
       "      <td>False</td>\n",
       "      <td>en</td>\n",
       "      <td>RT @GOPChairwoman: A promise made; a promise k...</td>\n",
       "    </tr>\n",
       "    <tr>\n",
       "      <th>3</th>\n",
       "      <td>996013617962242048</td>\n",
       "      <td>GOP</td>\n",
       "      <td>NaN</td>\n",
       "      <td>2018-05-14 13:05:26</td>\n",
       "      <td>0</td>\n",
       "      <td>False</td>\n",
       "      <td>1618</td>\n",
       "      <td>False</td>\n",
       "      <td>False</td>\n",
       "      <td>en</td>\n",
       "      <td>RT @WhiteHouse: Watch LIVE the dedication of @...</td>\n",
       "    </tr>\n",
       "    <tr>\n",
       "      <th>4</th>\n",
       "      <td>995790826818195456</td>\n",
       "      <td>GOP</td>\n",
       "      <td>NaN</td>\n",
       "      <td>2018-05-13 22:20:08</td>\n",
       "      <td>2409</td>\n",
       "      <td>False</td>\n",
       "      <td>815</td>\n",
       "      <td>False</td>\n",
       "      <td>True</td>\n",
       "      <td>en</td>\n",
       "      <td>Joyce in Michigan: \"I'm the single mother of 2...</td>\n",
       "    </tr>\n",
       "  </tbody>\n",
       "</table>\n",
       "</div>"
      ],
      "text/plain": [
       "                   id user.screen_name in_reply_to_screen_name  \\\n",
       "0  996066458131156992              GOP                     NaN   \n",
       "1  996045253932191744              GOP                     NaN   \n",
       "2  996025971617730562              GOP                     NaN   \n",
       "3  996013617962242048              GOP                     NaN   \n",
       "4  995790826818195456              GOP                     NaN   \n",
       "\n",
       "            created_at  favorite_count  favorited  retweet_count  retweeted  \\\n",
       "0  2018-05-14 16:35:24            1950      False            555      False   \n",
       "1  2018-05-14 15:11:08            2350      False            767      False   \n",
       "2  2018-05-14 13:54:31               0      False            283      False   \n",
       "3  2018-05-14 13:05:26               0      False           1618      False   \n",
       "4  2018-05-13 22:20:08            2409      False            815      False   \n",
       "\n",
       "   truncated lang                                               text  \n",
       "0      False   en  Welcome to the United States Embassy in Jerusa...  \n",
       "1       True   en  “On behalf of the 45th President of the United...  \n",
       "2      False   en  RT @GOPChairwoman: A promise made; a promise k...  \n",
       "3      False   en  RT @WhiteHouse: Watch LIVE the dedication of @...  \n",
       "4       True   en  Joyce in Michigan: \"I'm the single mother of 2...  "
      ]
     },
     "execution_count": 7,
     "metadata": {},
     "output_type": "execute_result"
    }
   ],
   "source": [
    "rep.head(5)"
   ]
  },
  {
   "cell_type": "code",
   "execution_count": 8,
   "metadata": {},
   "outputs": [
    {
     "data": {
      "text/html": [
       "<div>\n",
       "<style>\n",
       "    .dataframe thead tr:only-child th {\n",
       "        text-align: right;\n",
       "    }\n",
       "\n",
       "    .dataframe thead th {\n",
       "        text-align: left;\n",
       "    }\n",
       "\n",
       "    .dataframe tbody tr th {\n",
       "        vertical-align: top;\n",
       "    }\n",
       "</style>\n",
       "<table border=\"1\" class=\"dataframe\">\n",
       "  <thead>\n",
       "    <tr style=\"text-align: right;\">\n",
       "      <th></th>\n",
       "      <th>id</th>\n",
       "      <th>user.screen_name</th>\n",
       "      <th>in_reply_to_screen_name</th>\n",
       "      <th>created_at</th>\n",
       "      <th>favorite_count</th>\n",
       "      <th>favorited</th>\n",
       "      <th>retweet_count</th>\n",
       "      <th>retweeted</th>\n",
       "      <th>truncated</th>\n",
       "      <th>lang</th>\n",
       "      <th>text</th>\n",
       "    </tr>\n",
       "  </thead>\n",
       "  <tbody>\n",
       "    <tr>\n",
       "      <th>0</th>\n",
       "      <td>996107161439821825</td>\n",
       "      <td>TheDemocrats</td>\n",
       "      <td>NaN</td>\n",
       "      <td>2018-05-14 19:17:08</td>\n",
       "      <td>0</td>\n",
       "      <td>False</td>\n",
       "      <td>74</td>\n",
       "      <td>False</td>\n",
       "      <td>False</td>\n",
       "      <td>en</td>\n",
       "      <td>RT @texasdemocrats: Polls are open! Go vote in...</td>\n",
       "    </tr>\n",
       "    <tr>\n",
       "      <th>1</th>\n",
       "      <td>996081316318842880</td>\n",
       "      <td>TheDemocrats</td>\n",
       "      <td>NaN</td>\n",
       "      <td>2018-05-14 17:34:26</td>\n",
       "      <td>169</td>\n",
       "      <td>False</td>\n",
       "      <td>119</td>\n",
       "      <td>False</td>\n",
       "      <td>True</td>\n",
       "      <td>en</td>\n",
       "      <td>Under the Obama administration, the Department...</td>\n",
       "    </tr>\n",
       "    <tr>\n",
       "      <th>2</th>\n",
       "      <td>995679471507267584</td>\n",
       "      <td>TheDemocrats</td>\n",
       "      <td>NaN</td>\n",
       "      <td>2018-05-13 14:57:39</td>\n",
       "      <td>518</td>\n",
       "      <td>False</td>\n",
       "      <td>205</td>\n",
       "      <td>False</td>\n",
       "      <td>True</td>\n",
       "      <td>en</td>\n",
       "      <td>Happy #MothersDay to all the moms across the c...</td>\n",
       "    </tr>\n",
       "    <tr>\n",
       "      <th>3</th>\n",
       "      <td>995464855917400066</td>\n",
       "      <td>TheDemocrats</td>\n",
       "      <td>NaN</td>\n",
       "      <td>2018-05-13 00:44:51</td>\n",
       "      <td>0</td>\n",
       "      <td>False</td>\n",
       "      <td>58</td>\n",
       "      <td>False</td>\n",
       "      <td>False</td>\n",
       "      <td>en</td>\n",
       "      <td>RT @CTDems: .@MayorMark won't stand up for our...</td>\n",
       "    </tr>\n",
       "    <tr>\n",
       "      <th>4</th>\n",
       "      <td>995425258185379841</td>\n",
       "      <td>TheDemocrats</td>\n",
       "      <td>NaN</td>\n",
       "      <td>2018-05-12 22:07:30</td>\n",
       "      <td>406</td>\n",
       "      <td>False</td>\n",
       "      <td>276</td>\n",
       "      <td>False</td>\n",
       "      <td>True</td>\n",
       "      <td>en</td>\n",
       "      <td>Oklahoma Republicans have passed a law that wi...</td>\n",
       "    </tr>\n",
       "  </tbody>\n",
       "</table>\n",
       "</div>"
      ],
      "text/plain": [
       "                   id user.screen_name in_reply_to_screen_name  \\\n",
       "0  996107161439821825     TheDemocrats                     NaN   \n",
       "1  996081316318842880     TheDemocrats                     NaN   \n",
       "2  995679471507267584     TheDemocrats                     NaN   \n",
       "3  995464855917400066     TheDemocrats                     NaN   \n",
       "4  995425258185379841     TheDemocrats                     NaN   \n",
       "\n",
       "            created_at  favorite_count  favorited  retweet_count  retweeted  \\\n",
       "0  2018-05-14 19:17:08               0      False             74      False   \n",
       "1  2018-05-14 17:34:26             169      False            119      False   \n",
       "2  2018-05-13 14:57:39             518      False            205      False   \n",
       "3  2018-05-13 00:44:51               0      False             58      False   \n",
       "4  2018-05-12 22:07:30             406      False            276      False   \n",
       "\n",
       "   truncated lang                                               text  \n",
       "0      False   en  RT @texasdemocrats: Polls are open! Go vote in...  \n",
       "1       True   en  Under the Obama administration, the Department...  \n",
       "2       True   en  Happy #MothersDay to all the moms across the c...  \n",
       "3      False   en  RT @CTDems: .@MayorMark won't stand up for our...  \n",
       "4       True   en  Oklahoma Republicans have passed a law that wi...  "
      ]
     },
     "execution_count": 8,
     "metadata": {},
     "output_type": "execute_result"
    }
   ],
   "source": [
    "dem.head(5)"
   ]
  },
  {
   "cell_type": "markdown",
   "metadata": {},
   "source": [
    "Neither data set should have any non-english tweets - but lets check:"
   ]
  },
  {
   "cell_type": "code",
   "execution_count": 6,
   "metadata": {},
   "outputs": [
    {
     "name": "stdout",
     "output_type": "stream",
     "text": [
      "Number of tweets in english : 2339 from a total of 2339 tweets so 0 foreign language tweets\n",
      "Number of tweets in english : 2423 from a total of 2423 tweets so 0 foreign language tweets\n"
     ]
    }
   ],
   "source": [
    "str = 'Number of tweets in english : {0} from a total of {1} tweets so {2} foreign language tweets'\n",
    "rep_en = rep['lang'].str.contains('en').value_counts()[True]\n",
    "dem_en = dem['lang'].str.contains('en').value_counts()[True]\n",
    "print(str.format(rep_en, rep.shape[0], rep.shape[0]-rep_en))\n",
    "print(str.format(dem_en, dem.shape[0], dem.shape[0]-dem_en))"
   ]
  },
  {
   "cell_type": "markdown",
   "metadata": {},
   "source": [
    "Lets see how many tweets were retweets and display any that were created by users that are not our two accounts of interest:\n",
    "\n",
    "**** DOUBLE CHECK **** meaning on retweet flag given text \"RT @CTDems: .@MayorMark won't stand up for our...\" 4th from top - https://stackoverflow.com/questions/18869688/twitter-api-check-if-a-tweet-is-a-retweet\n",
    "Retweeting: the old way was to add 'RT @' to the tweet but now their is a new formal Twitter API Retweet, the 'retweeted_status' appears only if retweeted and contains the original , "
   ]
  },
  {
   "cell_type": "code",
   "execution_count": 7,
   "metadata": {
    "scrolled": true
   },
   "outputs": [
    {
     "name": "stdout",
     "output_type": "stream",
     "text": [
      "Republicans have retweeted 0 times\n",
      "Democrats have retweeted 0 times\n"
     ]
    }
   ],
   "source": [
    "print('Republicans have retweeted {} times'.format(len(rep[rep['retweeted']==True]['retweeted'])))\n",
    "print('Democrats have retweeted {} times'.format(len(dem[dem['retweeted']==True]['retweeted'])))"
   ]
  },
  {
   "cell_type": "code",
   "execution_count": 11,
   "metadata": {},
   "outputs": [
    {
     "data": {
      "text/html": [
       "<div>\n",
       "<style>\n",
       "    .dataframe thead tr:only-child th {\n",
       "        text-align: right;\n",
       "    }\n",
       "\n",
       "    .dataframe thead th {\n",
       "        text-align: left;\n",
       "    }\n",
       "\n",
       "    .dataframe tbody tr th {\n",
       "        vertical-align: top;\n",
       "    }\n",
       "</style>\n",
       "<table border=\"1\" class=\"dataframe\">\n",
       "  <thead>\n",
       "    <tr style=\"text-align: right;\">\n",
       "      <th></th>\n",
       "      <th>id</th>\n",
       "      <th>user.screen_name</th>\n",
       "      <th>in_reply_to_screen_name</th>\n",
       "      <th>created_at</th>\n",
       "      <th>favorite_count</th>\n",
       "      <th>favorited</th>\n",
       "      <th>retweet_count</th>\n",
       "      <th>retweeted</th>\n",
       "      <th>truncated</th>\n",
       "      <th>lang</th>\n",
       "      <th>text</th>\n",
       "    </tr>\n",
       "  </thead>\n",
       "  <tbody>\n",
       "  </tbody>\n",
       "</table>\n",
       "</div>"
      ],
      "text/plain": [
       "Empty DataFrame\n",
       "Columns: [id, user.screen_name, in_reply_to_screen_name, created_at, favorite_count, favorited, retweet_count, retweeted, truncated, lang, text]\n",
       "Index: []"
      ]
     },
     "execution_count": 11,
     "metadata": {},
     "output_type": "execute_result"
    }
   ],
   "source": [
    "rep[rep['user.screen_name'] != 'GOP']"
   ]
  },
  {
   "cell_type": "code",
   "execution_count": 12,
   "metadata": {},
   "outputs": [
    {
     "data": {
      "text/html": [
       "<div>\n",
       "<style>\n",
       "    .dataframe thead tr:only-child th {\n",
       "        text-align: right;\n",
       "    }\n",
       "\n",
       "    .dataframe thead th {\n",
       "        text-align: left;\n",
       "    }\n",
       "\n",
       "    .dataframe tbody tr th {\n",
       "        vertical-align: top;\n",
       "    }\n",
       "</style>\n",
       "<table border=\"1\" class=\"dataframe\">\n",
       "  <thead>\n",
       "    <tr style=\"text-align: right;\">\n",
       "      <th></th>\n",
       "      <th>id</th>\n",
       "      <th>user.screen_name</th>\n",
       "      <th>in_reply_to_screen_name</th>\n",
       "      <th>created_at</th>\n",
       "      <th>favorite_count</th>\n",
       "      <th>favorited</th>\n",
       "      <th>retweet_count</th>\n",
       "      <th>retweeted</th>\n",
       "      <th>truncated</th>\n",
       "      <th>lang</th>\n",
       "      <th>text</th>\n",
       "    </tr>\n",
       "  </thead>\n",
       "  <tbody>\n",
       "  </tbody>\n",
       "</table>\n",
       "</div>"
      ],
      "text/plain": [
       "Empty DataFrame\n",
       "Columns: [id, user.screen_name, in_reply_to_screen_name, created_at, favorite_count, favorited, retweet_count, retweeted, truncated, lang, text]\n",
       "Index: []"
      ]
     },
     "execution_count": 12,
     "metadata": {},
     "output_type": "execute_result"
    }
   ],
   "source": [
    "dem[dem['user.screen_name'] != 'TheDemocrats']"
   ]
  },
  {
   "cell_type": "markdown",
   "metadata": {},
   "source": [
    "As we would expect there are no tweets created by someone else as there are no tweets in either account that have the 'retweeted' flag set to True."
   ]
  },
  {
   "cell_type": "markdown",
   "metadata": {},
   "source": [
    "Now lets look at the in_reply_to_screen_name column: Have either party answered someone's tweets and if so who?"
   ]
  },
  {
   "cell_type": "code",
   "execution_count": 8,
   "metadata": {},
   "outputs": [
    {
     "name": "stdout",
     "output_type": "stream",
     "text": [
      "GOP                41\n",
      "POTUS               1\n",
      "realDonaldTrump     1\n",
      "Name: in_reply_to_screen_name, dtype: int64\n",
      "Total tweets in response to someone: 43\n",
      "TheDemocrats    76\n",
      "keithellison     1\n",
      "Name: in_reply_to_screen_name, dtype: int64\n",
      "Total tweets in response to someone: 77\n"
     ]
    }
   ],
   "source": [
    "#len(rep.loc[rep['in_reply_to_screen_name'].notnull(),['in_reply_to_screen_name','text']])\n",
    "#len(dem.loc[dem['in_reply_to_screen_name'].notnull(),['in_reply_to_screen_name','text']])\n",
    "print(rep.in_reply_to_screen_name.value_counts())\n",
    "print('Total tweets in response to someone: {}'.format(len(rep[rep['in_reply_to_screen_name'].notnull()])))\n",
    "print(dem.in_reply_to_screen_name.value_counts())\n",
    "print('Total tweets in response to someone: {}'.format(len(dem[dem['in_reply_to_screen_name'].notnull()])))"
   ]
  },
  {
   "cell_type": "markdown",
   "metadata": {},
   "source": [
    "Its interesting to note that by far the most common reply for both parties is replying to their own tweet, likely in an effort drive its interest and reach - Time to start looking at likes and favorites and maybe see if these relate to which tweets got responded too!"
   ]
  },
  {
   "cell_type": "code",
   "execution_count": 49,
   "metadata": {},
   "outputs": [
    {
     "name": "stdout",
     "output_type": "stream",
     "text": [
      "The tweet with the smallest number of favorites has 0 favorites for the Democrats and 0 for Republicans.\n",
      "In fact the Democrats have 59 tweets with 0 favorites and the Republicans have 48.\n"
     ]
    },
    {
     "data": {
      "text/markdown": [
       "**5 of the Republican tweets with smallest favorite_count :**"
      ],
      "text/plain": [
       "<IPython.core.display.Markdown object>"
      ]
     },
     "metadata": {},
     "output_type": "display_data"
    },
    {
     "data": {
      "text/html": [
       "<div>\n",
       "<style>\n",
       "    .dataframe thead tr:only-child th {\n",
       "        text-align: right;\n",
       "    }\n",
       "\n",
       "    .dataframe thead th {\n",
       "        text-align: left;\n",
       "    }\n",
       "\n",
       "    .dataframe tbody tr th {\n",
       "        vertical-align: top;\n",
       "    }\n",
       "</style>\n",
       "<table border=\"1\" class=\"dataframe\">\n",
       "  <thead>\n",
       "    <tr style=\"text-align: right;\">\n",
       "      <th></th>\n",
       "      <th>created_at</th>\n",
       "      <th>favorite_count</th>\n",
       "      <th>retweet_count</th>\n",
       "      <th>truncated</th>\n",
       "      <th>text</th>\n",
       "    </tr>\n",
       "  </thead>\n",
       "  <tbody>\n",
       "    <tr>\n",
       "      <th>2</th>\n",
       "      <td>2018-05-14 13:54:31</td>\n",
       "      <td>0</td>\n",
       "      <td>283</td>\n",
       "      <td>False</td>\n",
       "      <td>RT @GOPChairwoman: A promise made; a promise k...</td>\n",
       "    </tr>\n",
       "    <tr>\n",
       "      <th>3</th>\n",
       "      <td>2018-05-14 13:05:26</td>\n",
       "      <td>0</td>\n",
       "      <td>1618</td>\n",
       "      <td>False</td>\n",
       "      <td>RT @WhiteHouse: Watch LIVE the dedication of @...</td>\n",
       "    </tr>\n",
       "    <tr>\n",
       "      <th>14</th>\n",
       "      <td>2018-05-11 15:38:00</td>\n",
       "      <td>0</td>\n",
       "      <td>17804</td>\n",
       "      <td>False</td>\n",
       "      <td>RT @realDonaldTrump: Thank you Indiana! #MAGA🇺...</td>\n",
       "    </tr>\n",
       "    <tr>\n",
       "      <th>16</th>\n",
       "      <td>2018-05-10 19:52:00</td>\n",
       "      <td>0</td>\n",
       "      <td>363</td>\n",
       "      <td>False</td>\n",
       "      <td>RT @RNCResearch: CNN Poll: Approval of Trump’s...</td>\n",
       "    </tr>\n",
       "    <tr>\n",
       "      <th>18</th>\n",
       "      <td>2018-05-10 18:20:00</td>\n",
       "      <td>0</td>\n",
       "      <td>62953</td>\n",
       "      <td>False</td>\n",
       "      <td>RT @realDonaldTrump: The highly anticipated me...</td>\n",
       "    </tr>\n",
       "  </tbody>\n",
       "</table>\n",
       "</div>"
      ],
      "text/plain": [
       "             created_at  favorite_count  retweet_count  truncated  \\\n",
       "2   2018-05-14 13:54:31               0            283      False   \n",
       "3   2018-05-14 13:05:26               0           1618      False   \n",
       "14  2018-05-11 15:38:00               0          17804      False   \n",
       "16  2018-05-10 19:52:00               0            363      False   \n",
       "18  2018-05-10 18:20:00               0          62953      False   \n",
       "\n",
       "                                                 text  \n",
       "2   RT @GOPChairwoman: A promise made; a promise k...  \n",
       "3   RT @WhiteHouse: Watch LIVE the dedication of @...  \n",
       "14  RT @realDonaldTrump: Thank you Indiana! #MAGA🇺...  \n",
       "16  RT @RNCResearch: CNN Poll: Approval of Trump’s...  \n",
       "18  RT @realDonaldTrump: The highly anticipated me...  "
      ]
     },
     "metadata": {},
     "output_type": "display_data"
    },
    {
     "data": {
      "text/markdown": [
       "**5 Republican tweets with largest favorite_count :**"
      ],
      "text/plain": [
       "<IPython.core.display.Markdown object>"
      ]
     },
     "metadata": {},
     "output_type": "display_data"
    },
    {
     "data": {
      "text/html": [
       "<div>\n",
       "<style>\n",
       "    .dataframe thead tr:only-child th {\n",
       "        text-align: right;\n",
       "    }\n",
       "\n",
       "    .dataframe thead th {\n",
       "        text-align: left;\n",
       "    }\n",
       "\n",
       "    .dataframe tbody tr th {\n",
       "        vertical-align: top;\n",
       "    }\n",
       "</style>\n",
       "<table border=\"1\" class=\"dataframe\">\n",
       "  <thead>\n",
       "    <tr style=\"text-align: right;\">\n",
       "      <th></th>\n",
       "      <th>created_at</th>\n",
       "      <th>favorite_count</th>\n",
       "      <th>retweet_count</th>\n",
       "      <th>truncated</th>\n",
       "      <th>text</th>\n",
       "    </tr>\n",
       "  </thead>\n",
       "  <tbody>\n",
       "    <tr>\n",
       "      <th>221</th>\n",
       "      <td>2018-04-15 21:02:31</td>\n",
       "      <td>26558</td>\n",
       "      <td>5081</td>\n",
       "      <td>False</td>\n",
       "      <td>Our entire RNC family offers prayers of comfor...</td>\n",
       "    </tr>\n",
       "    <tr>\n",
       "      <th>1575</th>\n",
       "      <td>2017-08-30 21:22:56</td>\n",
       "      <td>26092</td>\n",
       "      <td>7499</td>\n",
       "      <td>True</td>\n",
       "      <td>.@POTUS: I want to work with Congress, Republi...</td>\n",
       "    </tr>\n",
       "    <tr>\n",
       "      <th>1555</th>\n",
       "      <td>2017-09-06 19:55:02</td>\n",
       "      <td>21920</td>\n",
       "      <td>5093</td>\n",
       "      <td>False</td>\n",
       "      <td>.@IvankaTrump: This administration is committe...</td>\n",
       "    </tr>\n",
       "    <tr>\n",
       "      <th>2289</th>\n",
       "      <td>2017-01-20 22:36:08</td>\n",
       "      <td>21030</td>\n",
       "      <td>5888</td>\n",
       "      <td>False</td>\n",
       "      <td>Congratulations to our newest Secretary of Def...</td>\n",
       "    </tr>\n",
       "    <tr>\n",
       "      <th>865</th>\n",
       "      <td>2018-01-09 01:40:54</td>\n",
       "      <td>18676</td>\n",
       "      <td>5062</td>\n",
       "      <td>False</td>\n",
       "      <td>Oh, say does that star-spangled banner yet wav...</td>\n",
       "    </tr>\n",
       "  </tbody>\n",
       "</table>\n",
       "</div>"
      ],
      "text/plain": [
       "               created_at  favorite_count  retweet_count  truncated  \\\n",
       "221   2018-04-15 21:02:31           26558           5081      False   \n",
       "1575  2017-08-30 21:22:56           26092           7499       True   \n",
       "1555  2017-09-06 19:55:02           21920           5093      False   \n",
       "2289  2017-01-20 22:36:08           21030           5888      False   \n",
       "865   2018-01-09 01:40:54           18676           5062      False   \n",
       "\n",
       "                                                   text  \n",
       "221   Our entire RNC family offers prayers of comfor...  \n",
       "1575  .@POTUS: I want to work with Congress, Republi...  \n",
       "1555  .@IvankaTrump: This administration is committe...  \n",
       "2289  Congratulations to our newest Secretary of Def...  \n",
       "865   Oh, say does that star-spangled banner yet wav...  "
      ]
     },
     "metadata": {},
     "output_type": "display_data"
    },
    {
     "data": {
      "text/markdown": [
       "**5 of the  Democrat tweets with smallest favorite_count :**"
      ],
      "text/plain": [
       "<IPython.core.display.Markdown object>"
      ]
     },
     "metadata": {},
     "output_type": "display_data"
    },
    {
     "data": {
      "text/html": [
       "<div>\n",
       "<style>\n",
       "    .dataframe thead tr:only-child th {\n",
       "        text-align: right;\n",
       "    }\n",
       "\n",
       "    .dataframe thead th {\n",
       "        text-align: left;\n",
       "    }\n",
       "\n",
       "    .dataframe tbody tr th {\n",
       "        vertical-align: top;\n",
       "    }\n",
       "</style>\n",
       "<table border=\"1\" class=\"dataframe\">\n",
       "  <thead>\n",
       "    <tr style=\"text-align: right;\">\n",
       "      <th></th>\n",
       "      <th>created_at</th>\n",
       "      <th>favorite_count</th>\n",
       "      <th>retweet_count</th>\n",
       "      <th>truncated</th>\n",
       "      <th>text</th>\n",
       "    </tr>\n",
       "  </thead>\n",
       "  <tbody>\n",
       "    <tr>\n",
       "      <th>0</th>\n",
       "      <td>2018-05-14 19:17:08</td>\n",
       "      <td>0</td>\n",
       "      <td>74</td>\n",
       "      <td>False</td>\n",
       "      <td>RT @texasdemocrats: Polls are open! Go vote in...</td>\n",
       "    </tr>\n",
       "    <tr>\n",
       "      <th>3</th>\n",
       "      <td>2018-05-13 00:44:51</td>\n",
       "      <td>0</td>\n",
       "      <td>58</td>\n",
       "      <td>False</td>\n",
       "      <td>RT @CTDems: .@MayorMark won't stand up for our...</td>\n",
       "    </tr>\n",
       "    <tr>\n",
       "      <th>5</th>\n",
       "      <td>2018-05-12 20:14:16</td>\n",
       "      <td>0</td>\n",
       "      <td>70</td>\n",
       "      <td>False</td>\n",
       "      <td>RT @INDems: Ready to elect more Hoosier Democr...</td>\n",
       "    </tr>\n",
       "    <tr>\n",
       "      <th>7</th>\n",
       "      <td>2018-05-12 15:46:49</td>\n",
       "      <td>0</td>\n",
       "      <td>65</td>\n",
       "      <td>False</td>\n",
       "      <td>RT @tammybaldwin: Working women get the job do...</td>\n",
       "    </tr>\n",
       "    <tr>\n",
       "      <th>11</th>\n",
       "      <td>2018-05-11 18:04:05</td>\n",
       "      <td>0</td>\n",
       "      <td>65</td>\n",
       "      <td>False</td>\n",
       "      <td>RT @Grace4NY: The administration is refusing t...</td>\n",
       "    </tr>\n",
       "  </tbody>\n",
       "</table>\n",
       "</div>"
      ],
      "text/plain": [
       "             created_at  favorite_count  retweet_count  truncated  \\\n",
       "0   2018-05-14 19:17:08               0             74      False   \n",
       "3   2018-05-13 00:44:51               0             58      False   \n",
       "5   2018-05-12 20:14:16               0             70      False   \n",
       "7   2018-05-12 15:46:49               0             65      False   \n",
       "11  2018-05-11 18:04:05               0             65      False   \n",
       "\n",
       "                                                 text  \n",
       "0   RT @texasdemocrats: Polls are open! Go vote in...  \n",
       "3   RT @CTDems: .@MayorMark won't stand up for our...  \n",
       "5   RT @INDems: Ready to elect more Hoosier Democr...  \n",
       "7   RT @tammybaldwin: Working women get the job do...  \n",
       "11  RT @Grace4NY: The administration is refusing t...  "
      ]
     },
     "metadata": {},
     "output_type": "display_data"
    },
    {
     "data": {
      "text/markdown": [
       "**5 Democrat tweets with largest favorite_count :**"
      ],
      "text/plain": [
       "<IPython.core.display.Markdown object>"
      ]
     },
     "metadata": {},
     "output_type": "display_data"
    },
    {
     "data": {
      "text/html": [
       "<div>\n",
       "<style>\n",
       "    .dataframe thead tr:only-child th {\n",
       "        text-align: right;\n",
       "    }\n",
       "\n",
       "    .dataframe thead th {\n",
       "        text-align: left;\n",
       "    }\n",
       "\n",
       "    .dataframe tbody tr th {\n",
       "        vertical-align: top;\n",
       "    }\n",
       "</style>\n",
       "<table border=\"1\" class=\"dataframe\">\n",
       "  <thead>\n",
       "    <tr style=\"text-align: right;\">\n",
       "      <th></th>\n",
       "      <th>created_at</th>\n",
       "      <th>favorite_count</th>\n",
       "      <th>retweet_count</th>\n",
       "      <th>truncated</th>\n",
       "      <th>text</th>\n",
       "    </tr>\n",
       "  </thead>\n",
       "  <tbody>\n",
       "    <tr>\n",
       "      <th>946</th>\n",
       "      <td>2017-11-08 03:23:50</td>\n",
       "      <td>21886</td>\n",
       "      <td>6219</td>\n",
       "      <td>False</td>\n",
       "      <td>Hey @GOP, looks like America wants to be great...</td>\n",
       "    </tr>\n",
       "    <tr>\n",
       "      <th>2291</th>\n",
       "      <td>2017-02-24 17:15:38</td>\n",
       "      <td>13739</td>\n",
       "      <td>6230</td>\n",
       "      <td>True</td>\n",
       "      <td>A message from @HillaryClinton: \"Let resistanc...</td>\n",
       "    </tr>\n",
       "    <tr>\n",
       "      <th>382</th>\n",
       "      <td>2018-03-14 05:13:46</td>\n",
       "      <td>11034</td>\n",
       "      <td>3146</td>\n",
       "      <td>True</td>\n",
       "      <td>We have our first flipped House seat of 2018! ...</td>\n",
       "    </tr>\n",
       "    <tr>\n",
       "      <th>551</th>\n",
       "      <td>2018-02-07 02:25:15</td>\n",
       "      <td>10161</td>\n",
       "      <td>3176</td>\n",
       "      <td>False</td>\n",
       "      <td>We're coming for every Republican in every sea...</td>\n",
       "    </tr>\n",
       "    <tr>\n",
       "      <th>695</th>\n",
       "      <td>2018-01-07 16:07:11</td>\n",
       "      <td>10002</td>\n",
       "      <td>3787</td>\n",
       "      <td>True</td>\n",
       "      <td>Let's elect:\\n\\n✅Black women\\n✅LGBT women\\n✅Mu...</td>\n",
       "    </tr>\n",
       "  </tbody>\n",
       "</table>\n",
       "</div>"
      ],
      "text/plain": [
       "               created_at  favorite_count  retweet_count  truncated  \\\n",
       "946   2017-11-08 03:23:50           21886           6219      False   \n",
       "2291  2017-02-24 17:15:38           13739           6230       True   \n",
       "382   2018-03-14 05:13:46           11034           3146       True   \n",
       "551   2018-02-07 02:25:15           10161           3176      False   \n",
       "695   2018-01-07 16:07:11           10002           3787       True   \n",
       "\n",
       "                                                   text  \n",
       "946   Hey @GOP, looks like America wants to be great...  \n",
       "2291  A message from @HillaryClinton: \"Let resistanc...  \n",
       "382   We have our first flipped House seat of 2018! ...  \n",
       "551   We're coming for every Republican in every sea...  \n",
       "695   Let's elect:\\n\\n✅Black women\\n✅LGBT women\\n✅Mu...  "
      ]
     },
     "metadata": {},
     "output_type": "display_data"
    }
   ],
   "source": [
    "print(\"The tweet with the smallest number of favorites has {} favorites for the Democrats and {} for Republicans.\".format(min(dem['favorite_count']), min(rep['favorite_count'])))\n",
    "print(\"In fact the Democrats have {} tweets with 0 favorites and the Republicans have {}.\".format(len(dem[dem['favorite_count'] == 0]),len(rep[rep['favorite_count'] == 0])))\n",
    "\n",
    "display(Markdown('**5 of the Republican tweets with smallest favorite_count :**'))\n",
    "display(rep.nsmallest(5,['favorite_count'])[['created_at', 'favorite_count', 'retweet_count', 'truncated', 'text']])\n",
    "display(Markdown('**5 Republican tweets with largest favorite_count :**'))\n",
    "display(rep.nlargest(5,['favorite_count'])[['created_at', 'favorite_count', 'retweet_count', 'truncated', 'text']])\n",
    "\n",
    "display(Markdown('**5 of the  Democrat tweets with smallest favorite_count :**'))\n",
    "display(dem.nsmallest(5,['favorite_count'])[['created_at', 'favorite_count', 'retweet_count', 'truncated', 'text']])\n",
    "display(Markdown('**5 Democrat tweets with largest favorite_count :**'))\n",
    "display(dem.nlargest(5,['favorite_count'])[['created_at', 'favorite_count', 'retweet_count', 'truncated', 'text']])"
   ]
  },
  {
   "cell_type": "markdown",
   "metadata": {},
   "source": [
    "Actually lets look at when they tweet first:\n",
    "To manipulate the tweet created_at times effectively you need to create a Datetime object from the string:"
   ]
  },
  {
   "cell_type": "code",
   "execution_count": 9,
   "metadata": {},
   "outputs": [
    {
     "name": "stdout",
     "output_type": "stream",
     "text": [
      "There are 12 columns in both data sets :\n",
      "   id\n",
      "   user.screen_name\n",
      "   in_reply_to_screen_name\n",
      "   created_at\n",
      "   favorite_count\n",
      "   favorited\n",
      "   retweet_count\n",
      "   retweeted\n",
      "   truncated\n",
      "   lang\n",
      "   text\n",
      "   created_at_date_col\n"
     ]
    }
   ],
   "source": [
    "def add_created_at_date_col(df):\n",
    "    df['created_at_date_col'] = df['created_at'].apply(lambda x: datetime.strptime(x, '%Y-%m-%d %H:%M:%S'))\n",
    "\n",
    "add_created_at_date_col(rep)\n",
    "add_created_at_date_col(dem)\n",
    "\n",
    "explore_columns(rep, dem)"
   ]
  },
  {
   "cell_type": "code",
   "execution_count": 51,
   "metadata": {},
   "outputs": [
    {
     "data": {
      "image/png": "[encoded data removed]",
      "text/plain": [
       "<matplotlib.figure.Figure at 0x10ae087f0>"
      ]
     },
     "metadata": {},
     "output_type": "display_data"
    }
   ],
   "source": [
    "plt.rcParams[\"figure.figsize\"] = (20,6)\n",
    "\n",
    "plt.subplot(1,2,1)\n",
    "dates = [matplotlib.dates.date2num(i) for i in rep['created_at_date_col']]\n",
    "plt.plot_date(dates, rep['favorite_count'])\n",
    "plt.yscale('log')\n",
    "plt.xlabel = \"Tweet created date\"       # NOT SHOWING UP ON GRAPH\n",
    "plt.ylabel = \"Number of favorites/likes\"\n",
    "plt.title = 'Democrat tweets'\n",
    "\n",
    "plt.subplot(1,2,2)\n",
    "dates = [matplotlib.dates.date2num(i) for i in dem['created_at_date_col']]\n",
    "plt.plot_date(dates, dem['favorite_count'])\n",
    "plt.yscale('log')\n",
    "plt.xlabel = \"Tweet created date\"       # NOT SHOWING UP ON GRAPH\n",
    "plt.ylabel = \"Number of favorites/likes\"\n",
    "plt.title = 'Republican tweets'\n",
    "\n",
    "plt.show()"
   ]
  },
  {
   "cell_type": "code",
   "execution_count": 52,
   "metadata": {},
   "outputs": [
    {
     "data": {
      "image/png": "[encoded data removed]",
      "text/plain": [
       "<matplotlib.figure.Figure at 0x112fef208>"
      ]
     },
     "metadata": {},
     "output_type": "display_data"
    }
   ],
   "source": [
    "demdates = [matplotlib.dates.date2num(i) for i in dem['created_at_date_col']]\n",
    "repdates = [matplotlib.dates.date2num(i) for i in rep['created_at_date_col']]\n",
    "plt.plot_date(repdates, rep['favorite_count'], 'r+')\n",
    "plt.plot_date(demdates, dem['favorite_count'], 'b+')\n",
    "plt.yscale('log')\n",
    "plt.show()"
   ]
  },
  {
   "cell_type": "markdown",
   "metadata": {},
   "source": [
    "Looking at the plots above it looks like both parties get most of their tweets to be favorited between 100 and 5000 times, although the democrats have some low performing (from a favorited perspective) in Apr 2018. Both parties are also fairly consistent in volumn of tweets through out the 2+ year data period. It looks like the republicans may have been getting a little more frequent. Lets look at the most favoirted few tweets from each account:"
   ]
  },
  {
   "cell_type": "code",
   "execution_count": 18,
   "metadata": {},
   "outputs": [
    {
     "data": {
      "image/png": "[encoded data removed]",
      "text/plain": [
       "<matplotlib.figure.Figure at 0x10aeea518>"
      ]
     },
     "metadata": {},
     "output_type": "display_data"
    }
   ],
   "source": [
    "plt.subplot(1,2,1)\n",
    "plt.scatter(rep['retweet_count'], rep['favorite_count'])\n",
    "plt.xlabel = \"Number of times tweet was retweeted\"        # NOT SHOWING UP ON GRAPH\n",
    "plt.ylabel = \"Number of favorites/likes'\"\n",
    "plt.title = 'Republican tweets'\n",
    "\n",
    "plt.subplot(1,2,2)\n",
    "plt.scatter(dem['retweet_count'], dem['favorite_count'])\n",
    "plt.xlabel = \"Number of times tweet was retweeted\"        # NOT SHOWING UP ON GRAPH\n",
    "plt.ylabel = \"Number of favorites/likes'\"\n",
    "plt.title = 'Democrat tweets'\n",
    "\n",
    "plt.show()"
   ]
  },
  {
   "cell_type": "code",
   "execution_count": null,
   "metadata": {
    "collapsed": true
   },
   "outputs": [],
   "source": []
  }
 ],
 "metadata": {
  "kernelspec": {
   "display_name": "Python 3",
   "language": "python",
   "name": "python3"
  },
  "language_info": {
   "codemirror_mode": {
    "name": "ipython",
    "version": 3
   },
   "file_extension": ".py",
   "mimetype": "text/x-python",
   "name": "python",
   "nbconvert_exporter": "python",
   "pygments_lexer": "ipython3",
   "version": "3.6.2"
  }
 },
 "nbformat": 4,
 "nbformat_minor": 2
}
