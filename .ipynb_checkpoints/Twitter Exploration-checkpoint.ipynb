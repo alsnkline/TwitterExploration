{
 "cells": [
  {
   "cell_type": "markdown",
   "metadata": {},
   "source": [
    "# Twitter Exploration"
   ]
  },
  {
   "cell_type": "markdown",
   "metadata": {},
   "source": [
    "As a potential Data Analysis project I explored the publically available Tweeter API and what data can be easily accessed with it. I used the Tweepy library to wrap the Twitter API. I initially created a number of methods in Twitter_Access.py to exercise the search, home_timeline and user_timeline API methods and save the resulting data into .csv files for analysis with pandas."
   ]
  },
  {
   "cell_type": "code",
   "execution_count": 1,
   "metadata": {},
   "outputs": [
    {
     "name": "stdout",
     "output_type": "stream",
     "text": [
      "/Users/alisonkline/Code/TwitterExploration\n"
     ]
    }
   ],
   "source": [
    "\n",
    "import pandas as pd\n",
    "import os\n",
    "from datetime import datetime \n",
    "from Twitter_Access import get_twitter_api_obj\n",
    "from Twitter_Access import get_users_timeline\n",
    "import matplotlib\n",
    "import matplotlib.pyplot as plt\n",
    "%matplotlib inline\n",
    "\n",
    "cwd = os.getcwd()\n",
    "print(cwd)"
   ]
  },
  {
   "cell_type": "markdown",
   "metadata": {},
   "source": [
    "I manually collected the twitter screen_names for some of the key democrate and republican twitter accounts.\n",
    "\n",
    "Here they are:\n",
    "\n",
    "Republican\n",
    "\n",
    "| Twitter Screen Name | Description of account |\n",
    "|---------------------|------------------------|\n",
    "| @GOP | The Grand Old Party, aka The Republicans |\n",
    "| @NRCC | The Republican Congressional Committee |\n",
    "| @HouseGOP | The House Republicans |\n",
    "| @SenateGOP | The Senate Republicans |\n",
    "\n",
    "Democrate\n",
    "\n",
    "| Twitter Screen Name | Description of account |\n",
    "|---------------------|------------------------|\n",
    "| @TheDemocrats | The Democrats |\n",
    "| @DNC | The Democratic National Committee |\n",
    "| @HouseDemocrats | The House Democrats |\n",
    "| @SenateDemocrats | The Senate Democrats |"
   ]
  },
  {
   "cell_type": "markdown",
   "metadata": {},
   "source": [
    "Then ran the user time_line method created in Twitter_Access.py on each account in turn to gather their tweet data. \n",
    "\n",
    "I need to create an API object first to handle the actual Twitter API authentication."
   ]
  },
  {
   "cell_type": "code",
   "execution_count": 2,
   "metadata": {},
   "outputs": [],
   "source": [
    "api = get_twitter_api_obj()"
   ]
  },
  {
   "cell_type": "code",
   "execution_count": 3,
   "metadata": {},
   "outputs": [
    {
     "name": "stdout",
     "output_type": "stream",
     "text": [
      "Obtained 1 tweet pages for user TheDemocrats.\n",
      "Obtained 2 tweet pages for user TheDemocrats.\n",
      "Obtained 3 tweet pages for user TheDemocrats.\n",
      "Obtained 4 tweet pages for user TheDemocrats.\n",
      "Obtained 5 tweet pages for user TheDemocrats.\n",
      "Obtained 6 tweet pages for user TheDemocrats.\n",
      "Obtained 7 tweet pages for user TheDemocrats.\n",
      "Obtained 8 tweet pages for user TheDemocrats.\n",
      "Obtained 9 tweet pages for user TheDemocrats.\n",
      "Obtained 10 tweet pages for user TheDemocrats.\n",
      "Obtained 11 tweet pages for user TheDemocrats.\n",
      "Obtained 12 tweet pages for user TheDemocrats.\n",
      "Obtained 13 tweet pages for user TheDemocrats.\n",
      "Obtained 14 tweet pages for user TheDemocrats.\n",
      "Obtained 15 tweet pages for user TheDemocrats.\n",
      "Obtained 16 tweet pages for user TheDemocrats.\n"
     ]
    }
   ],
   "source": [
    "#get_users_timeline(api, \"TheDemocrats\")"
   ]
  },
  {
   "cell_type": "markdown",
   "metadata": {},
   "source": [
    "# Analysing the data"
   ]
  },
  {
   "cell_type": "markdown",
   "metadata": {},
   "source": [
    "Initially just the two users @GOP and @TheDemocrats\n",
    "The dumped .csv files are available in the Data directory so the first task is to import the data into two Pandas Dataframes."
   ]
  },
  {
   "cell_type": "code",
   "execution_count": 3,
   "metadata": {
    "collapsed": true
   },
   "outputs": [],
   "source": [
    "rep = pd.read_csv(cwd+'/data/tweetsTimelineGOP.csv')\n",
    "dem = pd.read_csv(cwd+'/data/tweetsTimelineTheDemocrats.csv')"
   ]
  },
  {
   "cell_type": "code",
   "execution_count": 5,
   "metadata": {},
   "outputs": [
    {
     "name": "stdout",
     "output_type": "stream",
     "text": [
      "There are 12 columns in both data sets :\n",
      "   id\n",
      "   user.screen_name\n",
      "   in_reply_to_screen_name\n",
      "   created_at\n",
      "   favorite_count\n",
      "   favorited\n",
      "   retweet_count\n",
      "   retweeted\n",
      "   truncated\n",
      "   lang\n",
      "   text\n",
      "   created_at_date_col\n"
     ]
    }
   ],
   "source": [
    "def explore_columns(df1, df2):\n",
    "    print('There are {} columns in both data sets :'.format(rep.shape[1]))\n",
    "    for c in df1.columns.values:\n",
    "        if c in df2.columns.values:\n",
    "            print('   ' + c)\n",
    "        else:\n",
    "            print('Column ({}) only present in one dataset'.format(c))\n",
    "\n",
    "explore_columns(rep, dem)"
   ]
  },
  {
   "cell_type": "code",
   "execution_count": 6,
   "metadata": {},
   "outputs": [
    {
     "name": "stdout",
     "output_type": "stream",
     "text": [
      "Number of Republican tweets 2339 vs Democrat tweets 2423\n"
     ]
    }
   ],
   "source": [
    "print('Number of Republican tweets {} vs Democrat tweets {}'.format(rep.shape[0], dem.shape[0]))"
   ]
  },
  {
   "cell_type": "markdown",
   "metadata": {},
   "source": [
    "Giving a quick look at the top 5 entries in both data sets:"
   ]
  },
  {
   "cell_type": "code",
   "execution_count": 7,
   "metadata": {},
   "outputs": [
    {
     "data": {
      "text/html": [
       "<div>\n",
       "<style>\n",
       "    .dataframe thead tr:only-child th {\n",
       "        text-align: right;\n",
       "    }\n",
       "\n",
       "    .dataframe thead th {\n",
       "        text-align: left;\n",
       "    }\n",
       "\n",
       "    .dataframe tbody tr th {\n",
       "        vertical-align: top;\n",
       "    }\n",
       "</style>\n",
       "<table border=\"1\" class=\"dataframe\">\n",
       "  <thead>\n",
       "    <tr style=\"text-align: right;\">\n",
       "      <th></th>\n",
       "      <th>id</th>\n",
       "      <th>user.screen_name</th>\n",
       "      <th>in_reply_to_screen_name</th>\n",
       "      <th>created_at</th>\n",
       "      <th>favorite_count</th>\n",
       "      <th>favorited</th>\n",
       "      <th>retweet_count</th>\n",
       "      <th>retweeted</th>\n",
       "      <th>truncated</th>\n",
       "      <th>lang</th>\n",
       "      <th>text</th>\n",
       "    </tr>\n",
       "  </thead>\n",
       "  <tbody>\n",
       "    <tr>\n",
       "      <th>0</th>\n",
       "      <td>996066458131156992</td>\n",
       "      <td>GOP</td>\n",
       "      <td>NaN</td>\n",
       "      <td>2018-05-14 16:35:24</td>\n",
       "      <td>1950</td>\n",
       "      <td>False</td>\n",
       "      <td>555</td>\n",
       "      <td>False</td>\n",
       "      <td>False</td>\n",
       "      <td>en</td>\n",
       "      <td>Welcome to the United States Embassy in Jerusa...</td>\n",
       "    </tr>\n",
       "    <tr>\n",
       "      <th>1</th>\n",
       "      <td>996045253932191744</td>\n",
       "      <td>GOP</td>\n",
       "      <td>NaN</td>\n",
       "      <td>2018-05-14 15:11:08</td>\n",
       "      <td>2350</td>\n",
       "      <td>False</td>\n",
       "      <td>767</td>\n",
       "      <td>False</td>\n",
       "      <td>True</td>\n",
       "      <td>en</td>\n",
       "      <td>“On behalf of the 45th President of the United...</td>\n",
       "    </tr>\n",
       "    <tr>\n",
       "      <th>2</th>\n",
       "      <td>996025971617730562</td>\n",
       "      <td>GOP</td>\n",
       "      <td>NaN</td>\n",
       "      <td>2018-05-14 13:54:31</td>\n",
       "      <td>0</td>\n",
       "      <td>False</td>\n",
       "      <td>283</td>\n",
       "      <td>False</td>\n",
       "      <td>False</td>\n",
       "      <td>en</td>\n",
       "      <td>RT @GOPChairwoman: A promise made; a promise k...</td>\n",
       "    </tr>\n",
       "    <tr>\n",
       "      <th>3</th>\n",
       "      <td>996013617962242048</td>\n",
       "      <td>GOP</td>\n",
       "      <td>NaN</td>\n",
       "      <td>2018-05-14 13:05:26</td>\n",
       "      <td>0</td>\n",
       "      <td>False</td>\n",
       "      <td>1618</td>\n",
       "      <td>False</td>\n",
       "      <td>False</td>\n",
       "      <td>en</td>\n",
       "      <td>RT @WhiteHouse: Watch LIVE the dedication of @...</td>\n",
       "    </tr>\n",
       "    <tr>\n",
       "      <th>4</th>\n",
       "      <td>995790826818195456</td>\n",
       "      <td>GOP</td>\n",
       "      <td>NaN</td>\n",
       "      <td>2018-05-13 22:20:08</td>\n",
       "      <td>2409</td>\n",
       "      <td>False</td>\n",
       "      <td>815</td>\n",
       "      <td>False</td>\n",
       "      <td>True</td>\n",
       "      <td>en</td>\n",
       "      <td>Joyce in Michigan: \"I'm the single mother of 2...</td>\n",
       "    </tr>\n",
       "  </tbody>\n",
       "</table>\n",
       "</div>"
      ],
      "text/plain": [
       "                   id user.screen_name in_reply_to_screen_name  \\\n",
       "0  996066458131156992              GOP                     NaN   \n",
       "1  996045253932191744              GOP                     NaN   \n",
       "2  996025971617730562              GOP                     NaN   \n",
       "3  996013617962242048              GOP                     NaN   \n",
       "4  995790826818195456              GOP                     NaN   \n",
       "\n",
       "            created_at  favorite_count  favorited  retweet_count  retweeted  \\\n",
       "0  2018-05-14 16:35:24            1950      False            555      False   \n",
       "1  2018-05-14 15:11:08            2350      False            767      False   \n",
       "2  2018-05-14 13:54:31               0      False            283      False   \n",
       "3  2018-05-14 13:05:26               0      False           1618      False   \n",
       "4  2018-05-13 22:20:08            2409      False            815      False   \n",
       "\n",
       "   truncated lang                                               text  \n",
       "0      False   en  Welcome to the United States Embassy in Jerusa...  \n",
       "1       True   en  “On behalf of the 45th President of the United...  \n",
       "2      False   en  RT @GOPChairwoman: A promise made; a promise k...  \n",
       "3      False   en  RT @WhiteHouse: Watch LIVE the dedication of @...  \n",
       "4       True   en  Joyce in Michigan: \"I'm the single mother of 2...  "
      ]
     },
     "execution_count": 7,
     "metadata": {},
     "output_type": "execute_result"
    }
   ],
   "source": [
    "rep.head(5)"
   ]
  },
  {
   "cell_type": "code",
   "execution_count": 8,
   "metadata": {},
   "outputs": [
    {
     "data": {
      "text/html": [
       "<div>\n",
       "<style>\n",
       "    .dataframe thead tr:only-child th {\n",
       "        text-align: right;\n",
       "    }\n",
       "\n",
       "    .dataframe thead th {\n",
       "        text-align: left;\n",
       "    }\n",
       "\n",
       "    .dataframe tbody tr th {\n",
       "        vertical-align: top;\n",
       "    }\n",
       "</style>\n",
       "<table border=\"1\" class=\"dataframe\">\n",
       "  <thead>\n",
       "    <tr style=\"text-align: right;\">\n",
       "      <th></th>\n",
       "      <th>id</th>\n",
       "      <th>user.screen_name</th>\n",
       "      <th>in_reply_to_screen_name</th>\n",
       "      <th>created_at</th>\n",
       "      <th>favorite_count</th>\n",
       "      <th>favorited</th>\n",
       "      <th>retweet_count</th>\n",
       "      <th>retweeted</th>\n",
       "      <th>truncated</th>\n",
       "      <th>lang</th>\n",
       "      <th>text</th>\n",
       "    </tr>\n",
       "  </thead>\n",
       "  <tbody>\n",
       "    <tr>\n",
       "      <th>0</th>\n",
       "      <td>996107161439821825</td>\n",
       "      <td>TheDemocrats</td>\n",
       "      <td>NaN</td>\n",
       "      <td>2018-05-14 19:17:08</td>\n",
       "      <td>0</td>\n",
       "      <td>False</td>\n",
       "      <td>74</td>\n",
       "      <td>False</td>\n",
       "      <td>False</td>\n",
       "      <td>en</td>\n",
       "      <td>RT @texasdemocrats: Polls are open! Go vote in...</td>\n",
       "    </tr>\n",
       "    <tr>\n",
       "      <th>1</th>\n",
       "      <td>996081316318842880</td>\n",
       "      <td>TheDemocrats</td>\n",
       "      <td>NaN</td>\n",
       "      <td>2018-05-14 17:34:26</td>\n",
       "      <td>169</td>\n",
       "      <td>False</td>\n",
       "      <td>119</td>\n",
       "      <td>False</td>\n",
       "      <td>True</td>\n",
       "      <td>en</td>\n",
       "      <td>Under the Obama administration, the Department...</td>\n",
       "    </tr>\n",
       "    <tr>\n",
       "      <th>2</th>\n",
       "      <td>995679471507267584</td>\n",
       "      <td>TheDemocrats</td>\n",
       "      <td>NaN</td>\n",
       "      <td>2018-05-13 14:57:39</td>\n",
       "      <td>518</td>\n",
       "      <td>False</td>\n",
       "      <td>205</td>\n",
       "      <td>False</td>\n",
       "      <td>True</td>\n",
       "      <td>en</td>\n",
       "      <td>Happy #MothersDay to all the moms across the c...</td>\n",
       "    </tr>\n",
       "    <tr>\n",
       "      <th>3</th>\n",
       "      <td>995464855917400066</td>\n",
       "      <td>TheDemocrats</td>\n",
       "      <td>NaN</td>\n",
       "      <td>2018-05-13 00:44:51</td>\n",
       "      <td>0</td>\n",
       "      <td>False</td>\n",
       "      <td>58</td>\n",
       "      <td>False</td>\n",
       "      <td>False</td>\n",
       "      <td>en</td>\n",
       "      <td>RT @CTDems: .@MayorMark won't stand up for our...</td>\n",
       "    </tr>\n",
       "    <tr>\n",
       "      <th>4</th>\n",
       "      <td>995425258185379841</td>\n",
       "      <td>TheDemocrats</td>\n",
       "      <td>NaN</td>\n",
       "      <td>2018-05-12 22:07:30</td>\n",
       "      <td>406</td>\n",
       "      <td>False</td>\n",
       "      <td>276</td>\n",
       "      <td>False</td>\n",
       "      <td>True</td>\n",
       "      <td>en</td>\n",
       "      <td>Oklahoma Republicans have passed a law that wi...</td>\n",
       "    </tr>\n",
       "  </tbody>\n",
       "</table>\n",
       "</div>"
      ],
      "text/plain": [
       "                   id user.screen_name in_reply_to_screen_name  \\\n",
       "0  996107161439821825     TheDemocrats                     NaN   \n",
       "1  996081316318842880     TheDemocrats                     NaN   \n",
       "2  995679471507267584     TheDemocrats                     NaN   \n",
       "3  995464855917400066     TheDemocrats                     NaN   \n",
       "4  995425258185379841     TheDemocrats                     NaN   \n",
       "\n",
       "            created_at  favorite_count  favorited  retweet_count  retweeted  \\\n",
       "0  2018-05-14 19:17:08               0      False             74      False   \n",
       "1  2018-05-14 17:34:26             169      False            119      False   \n",
       "2  2018-05-13 14:57:39             518      False            205      False   \n",
       "3  2018-05-13 00:44:51               0      False             58      False   \n",
       "4  2018-05-12 22:07:30             406      False            276      False   \n",
       "\n",
       "   truncated lang                                               text  \n",
       "0      False   en  RT @texasdemocrats: Polls are open! Go vote in...  \n",
       "1       True   en  Under the Obama administration, the Department...  \n",
       "2       True   en  Happy #MothersDay to all the moms across the c...  \n",
       "3      False   en  RT @CTDems: .@MayorMark won't stand up for our...  \n",
       "4       True   en  Oklahoma Republicans have passed a law that wi...  "
      ]
     },
     "execution_count": 8,
     "metadata": {},
     "output_type": "execute_result"
    }
   ],
   "source": [
    "dem.head(5)"
   ]
  },
  {
   "cell_type": "markdown",
   "metadata": {},
   "source": [
    "Neither data set should have any non-english tweets - but lets check:"
   ]
  },
  {
   "cell_type": "code",
   "execution_count": 9,
   "metadata": {},
   "outputs": [
    {
     "name": "stdout",
     "output_type": "stream",
     "text": [
      "Number of tweets in english : 2339 from a total of 2339 tweets so 0 foreign language tweets\n",
      "Number of tweets in english : 2423 from a total of 2423 tweets so 0 foreign language tweets\n"
     ]
    }
   ],
   "source": [
    "str = 'Number of tweets in english : {0} from a total of {1} tweets so {2} foreign language tweets'\n",
    "rep_en = rep['lang'].str.contains('en').value_counts()[True]\n",
    "dem_en = dem['lang'].str.contains('en').value_counts()[True]\n",
    "print(str.format(rep_en, rep.shape[0], rep.shape[0]-rep_en))\n",
    "print(str.format(dem_en, dem.shape[0], dem.shape[0]-dem_en))"
   ]
  },
  {
   "cell_type": "markdown",
   "metadata": {},
   "source": [
    "Lets see how many tweets were retweets and display any that were created by users that are not our two accounts of interest:"
   ]
  },
  {
   "cell_type": "code",
   "execution_count": 10,
   "metadata": {},
   "outputs": [
    {
     "name": "stdout",
     "output_type": "stream",
     "text": [
      "Republicans have retweeted 0 times\n",
      "Democrats have retweeted 0 times\n"
     ]
    }
   ],
   "source": [
    "print('Republicans have retweeted {} times'.format(len(rep[rep['retweeted']==True]['retweeted'])))\n",
    "print('Democrats have retweeted {} times'.format(len(dem[dem['retweeted']==True]['retweeted'])))"
   ]
  },
  {
   "cell_type": "code",
   "execution_count": 11,
   "metadata": {},
   "outputs": [
    {
     "data": {
      "text/html": [
       "<div>\n",
       "<style>\n",
       "    .dataframe thead tr:only-child th {\n",
       "        text-align: right;\n",
       "    }\n",
       "\n",
       "    .dataframe thead th {\n",
       "        text-align: left;\n",
       "    }\n",
       "\n",
       "    .dataframe tbody tr th {\n",
       "        vertical-align: top;\n",
       "    }\n",
       "</style>\n",
       "<table border=\"1\" class=\"dataframe\">\n",
       "  <thead>\n",
       "    <tr style=\"text-align: right;\">\n",
       "      <th></th>\n",
       "      <th>id</th>\n",
       "      <th>user.screen_name</th>\n",
       "      <th>in_reply_to_screen_name</th>\n",
       "      <th>created_at</th>\n",
       "      <th>favorite_count</th>\n",
       "      <th>favorited</th>\n",
       "      <th>retweet_count</th>\n",
       "      <th>retweeted</th>\n",
       "      <th>truncated</th>\n",
       "      <th>lang</th>\n",
       "      <th>text</th>\n",
       "    </tr>\n",
       "  </thead>\n",
       "  <tbody>\n",
       "  </tbody>\n",
       "</table>\n",
       "</div>"
      ],
      "text/plain": [
       "Empty DataFrame\n",
       "Columns: [id, user.screen_name, in_reply_to_screen_name, created_at, favorite_count, favorited, retweet_count, retweeted, truncated, lang, text]\n",
       "Index: []"
      ]
     },
     "execution_count": 11,
     "metadata": {},
     "output_type": "execute_result"
    }
   ],
   "source": [
    "rep[rep['user.screen_name'] != 'GOP']"
   ]
  },
  {
   "cell_type": "code",
   "execution_count": 12,
   "metadata": {},
   "outputs": [
    {
     "data": {
      "text/html": [
       "<div>\n",
       "<style>\n",
       "    .dataframe thead tr:only-child th {\n",
       "        text-align: right;\n",
       "    }\n",
       "\n",
       "    .dataframe thead th {\n",
       "        text-align: left;\n",
       "    }\n",
       "\n",
       "    .dataframe tbody tr th {\n",
       "        vertical-align: top;\n",
       "    }\n",
       "</style>\n",
       "<table border=\"1\" class=\"dataframe\">\n",
       "  <thead>\n",
       "    <tr style=\"text-align: right;\">\n",
       "      <th></th>\n",
       "      <th>id</th>\n",
       "      <th>user.screen_name</th>\n",
       "      <th>in_reply_to_screen_name</th>\n",
       "      <th>created_at</th>\n",
       "      <th>favorite_count</th>\n",
       "      <th>favorited</th>\n",
       "      <th>retweet_count</th>\n",
       "      <th>retweeted</th>\n",
       "      <th>truncated</th>\n",
       "      <th>lang</th>\n",
       "      <th>text</th>\n",
       "    </tr>\n",
       "  </thead>\n",
       "  <tbody>\n",
       "  </tbody>\n",
       "</table>\n",
       "</div>"
      ],
      "text/plain": [
       "Empty DataFrame\n",
       "Columns: [id, user.screen_name, in_reply_to_screen_name, created_at, favorite_count, favorited, retweet_count, retweeted, truncated, lang, text]\n",
       "Index: []"
      ]
     },
     "execution_count": 12,
     "metadata": {},
     "output_type": "execute_result"
    }
   ],
   "source": [
    "dem[dem['user.screen_name'] != 'TheDemocrats']"
   ]
  },
  {
   "cell_type": "markdown",
   "metadata": {},
   "source": [
    "As we would expect there are no tweets created by someone else as there are no tweets in either account that have the 'retweeted' flag set to True."
   ]
  },
  {
   "cell_type": "markdown",
   "metadata": {},
   "source": [
    "Now lets look at the in_reply_to_screen_name column: Have either party answered someone's tweets and if so who?"
   ]
  },
  {
   "cell_type": "code",
   "execution_count": 13,
   "metadata": {},
   "outputs": [
    {
     "name": "stdout",
     "output_type": "stream",
     "text": [
      "GOP                41\n",
      "POTUS               1\n",
      "realDonaldTrump     1\n",
      "Name: in_reply_to_screen_name, dtype: int64\n",
      "Total tweets in response to someone: 43\n",
      "TheDemocrats    76\n",
      "keithellison     1\n",
      "Name: in_reply_to_screen_name, dtype: int64\n",
      "Total tweets in response to someone: 77\n"
     ]
    }
   ],
   "source": [
    "#len(rep.loc[rep['in_reply_to_screen_name'].notnull(),['in_reply_to_screen_name','text']])\n",
    "#len(dem.loc[dem['in_reply_to_screen_name'].notnull(),['in_reply_to_screen_name','text']])\n",
    "print(rep.in_reply_to_screen_name.value_counts())\n",
    "print('Total tweets in response to someone: {}'.format(len(rep[rep['in_reply_to_screen_name'].notnull()])))\n",
    "print(dem.in_reply_to_screen_name.value_counts())\n",
    "print('Total tweets in response to someone: {}'.format(len(dem[dem['in_reply_to_screen_name'].notnull()])))"
   ]
  },
  {
   "cell_type": "markdown",
   "metadata": {},
   "source": [
    "Its interesting to note that by far the most common reply for both parties is replying to their own tweet, likely in an effort drive its interest and reach - Time to start looking at likes and favorites and maybe see if these relate to which tweets got responded too!\n",
    "\n",
    "Actually lets look at when they tweet first:\n",
    "To manipulate the tweet created_at times effectively you need to create a Datetime object from the string:"
   ]
  },
  {
   "cell_type": "code",
   "execution_count": 7,
   "metadata": {},
   "outputs": [
    {
     "name": "stdout",
     "output_type": "stream",
     "text": [
      "There are 12 columns in both data sets :\n",
      "   id\n",
      "   user.screen_name\n",
      "   in_reply_to_screen_name\n",
      "   created_at\n",
      "   favorite_count\n",
      "   favorited\n",
      "   retweet_count\n",
      "   retweeted\n",
      "   truncated\n",
      "   lang\n",
      "   text\n",
      "   created_at_date_col\n"
     ]
    }
   ],
   "source": [
    "def add_created_at_date_col(df):\n",
    "    df['created_at_date_col'] = df['created_at'].apply(lambda x: datetime.strptime(x, '%Y-%m-%d %H:%M:%S'))\n",
    "\n",
    "add_created_at_date_col(rep)\n",
    "add_created_at_date_col(dem)\n",
    "\n",
    "explore_columns(rep, dem)"
   ]
  },
  {
   "cell_type": "code",
   "execution_count": 6,
   "metadata": {},
   "outputs": [
    {
     "data": {
      "image/png": "[encoded data removed]",
      "text/plain": [
       "<matplotlib.figure.Figure at 0x10998a4e0>"
      ]
     },
     "metadata": {},
     "output_type": "display_data"
    }
   ],
   "source": [
    "dates = [matplotlib.dates.date2num(i) for i in dem['created_at_date_col']]\n",
    "\n",
    "plt.plot_date(dates, dem['favorite_count'])\n",
    "plt.xlabel = \"Tweet created date\"       # NOT SHOWING UP ON GRAPH\n",
    "plt.ylabel = \"Number of favorites/likes\"\n",
    "#plt.title = 'Democrat tweets'\n",
    "\n",
    "# would be nice to add rep as a sub plot\n",
    "\n",
    "plt.show()"
   ]
  },
  {
   "cell_type": "code",
   "execution_count": 12,
   "metadata": {},
   "outputs": [
    {
     "data": {
      "image/png": "[encoded data removed]",
      "text/plain": [
       "<matplotlib.figure.Figure at 0x10b001ac8>"
      ]
     },
     "metadata": {},
     "output_type": "display_data"
    }
   ],
   "source": [
    "plt.scatter(dem['retweet_count'], dem['favorite_count'])\n",
    "plt.xlabel = \"Number of times tweet was retweeted\"        # NOT SHOWING UP ON GRAPH\n",
    "plt.ylabel = \"Number of favorites/likes'\"\n",
    "plt.title = 'Democrat tweets'\n",
    "\n",
    "plt.show()"
   ]
  },
  {
   "cell_type": "code",
   "execution_count": null,
   "metadata": {
    "collapsed": true
   },
   "outputs": [],
   "source": []
  }
 ],
 "metadata": {
  "kernelspec": {
   "display_name": "Python 3",
   "language": "python",
   "name": "python3"
  },
  "language_info": {
   "codemirror_mode": {
    "name": "ipython",
    "version": 3
   },
   "file_extension": ".py",
   "mimetype": "text/x-python",
   "name": "python",
   "nbconvert_exporter": "python",
   "pygments_lexer": "ipython3",
   "version": "3.6.2"
  }
 },
 "nbformat": 4,
 "nbformat_minor": 2
}
